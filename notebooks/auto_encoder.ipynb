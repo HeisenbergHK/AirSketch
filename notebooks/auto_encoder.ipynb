{
 "cells": [
  {
   "cell_type": "code",
   "execution_count": 47,
   "id": "5c774f73",
   "metadata": {},
   "outputs": [],
   "source": [
    "import tensorflow as tf\n",
    "import numpy as np\n",
    "import pandas as pd\n",
    "from sklearn.model_selection import train_test_split\n",
    "import matplotlib.pyplot as plt\n",
    "import json\n",
    "import os"
   ]
  },
  {
   "cell_type": "code",
   "execution_count": 48,
   "id": "e03fa7ba",
   "metadata": {},
   "outputs": [
    {
     "name": "stdout",
     "output_type": "stream",
     "text": [
      "Dataset loaded: 908 samples, 42 features\n"
     ]
    }
   ],
   "source": [
    "# Load dataset for autoencoder training\n",
    "\n",
    "df = pd.read_csv(\"../data/hand_landmarks_dataset_normalized_to_the_wrist.csv\")\n",
    "feature_columns = [col for col in df.columns if col.startswith((\"x\", \"y\"))]\n",
    "X = df[feature_columns].values.astype(np.float32)\n",
    "\n",
    "print(f\"Dataset loaded: {X.shape[0]} samples, {X.shape[1]} features\")"
   ]
  },
  {
   "cell_type": "code",
   "execution_count": 57,
   "id": "f82da28d",
   "metadata": {},
   "outputs": [],
   "source": [
    "import tensorflow as tf\n",
    "\n",
    "\n",
    "def create_autoencoder(input_dim):\n",
    "    \"\"\"\n",
    "    Improved autoencoder with normalization, dropout, and better initialization.\n",
    "    \"\"\"\n",
    "    model = tf.keras.models.Sequential(\n",
    "        [\n",
    "            # Input with noise for robustness\n",
    "            tf.keras.layers.Input((input_dim,), name=\"input_layer\"),\n",
    "            tf.keras.layers.GaussianNoise(0.05, name=\"input_noise\"),\n",
    "            # Encoder\n",
    "            tf.keras.layers.Dense(\n",
    "                64, kernel_initializer=\"he_normal\", name=\"encoder_dense1\"\n",
    "            ),\n",
    "            tf.keras.layers.BatchNormalization(name=\"encoder_bn1\"),\n",
    "            tf.keras.layers.LeakyReLU(alpha=0.1, name=\"encoder_act1\"),\n",
    "            tf.keras.layers.Dense(\n",
    "                32, kernel_initializer=\"he_normal\", name=\"encoder_dense2\"\n",
    "            ),\n",
    "            tf.keras.layers.BatchNormalization(name=\"encoder_bn2\"),\n",
    "            tf.keras.layers.LeakyReLU(alpha=0.1, name=\"encoder_act2\"),\n",
    "            # Bottleneck\n",
    "            tf.keras.layers.Dense(\n",
    "                8,\n",
    "                activation=None,\n",
    "                kernel_initializer=\"he_normal\",\n",
    "                activity_regularizer=tf.keras.regularizers.L1(1e-5),\n",
    "                name=\"bottleneck\",\n",
    "            ),\n",
    "            # Decoder\n",
    "            tf.keras.layers.Dense(\n",
    "                32, kernel_initializer=\"he_normal\", name=\"decoder_dense1\"\n",
    "            ),\n",
    "            tf.keras.layers.BatchNormalization(name=\"decoder_bn1\"),\n",
    "            tf.keras.layers.LeakyReLU(alpha=0.1, name=\"decoder_act1\"),\n",
    "            tf.keras.layers.Dense(\n",
    "                64, kernel_initializer=\"he_normal\", name=\"decoder_dense2\"\n",
    "            ),\n",
    "            tf.keras.layers.BatchNormalization(name=\"decoder_bn2\"),\n",
    "            tf.keras.layers.LeakyReLU(alpha=0.1, name=\"decoder_act2\"),\n",
    "            # Output\n",
    "            tf.keras.layers.Dense(input_dim, activation=\"linear\", name=\"output_layer\"),\n",
    "        ]\n",
    "    )\n",
    "\n",
    "    # Use AdamW + Huber loss for stability\n",
    "    model.compile(\n",
    "        optimizer=tf.keras.optimizers.AdamW(learning_rate=1e-3, weight_decay=1e-5),\n",
    "        loss=tf.keras.losses.Huber(),\n",
    "    )\n",
    "\n",
    "    return model\n",
    "\n",
    "\n",
    "def train_autoencoder_model(X, epochs=20):\n",
    "    \"\"\"\n",
    "    Train the autoencoder\n",
    "    \"\"\"\n",
    "    X_train, X_val = train_test_split(X, test_size=0.2, random_state=42)\n",
    "\n",
    "    autoencoder = create_autoencoder(X.shape[1])\n",
    "\n",
    "    callbacks = [\n",
    "        tf.keras.callbacks.EarlyStopping(\n",
    "            monitor=\"val_loss\", patience=15, restore_best_weights=True\n",
    "        )\n",
    "    ]\n",
    "\n",
    "    history = autoencoder.fit(\n",
    "        X_train,\n",
    "        X_train,\n",
    "        validation_data=(X_val, X_val),\n",
    "        epochs=epochs,\n",
    "        batch_size=32,\n",
    "        callbacks=callbacks,\n",
    "        verbose=1,\n",
    "    )\n",
    "\n",
    "    return autoencoder, X_train, history\n",
    "\n",
    "\n",
    "def calculate_threshold(autoencoder, X_train, percentile=95):\n",
    "    \"\"\"\n",
    "    Calculate reconstruction error threshold\n",
    "    \"\"\"\n",
    "    reconstructions = autoencoder.predict(X_train, verbose=0)\n",
    "    errors = np.mean(np.square(X_train - reconstructions), axis=1)\n",
    "    threshold = np.percentile(errors, percentile)\n",
    "\n",
    "    print(f\"Threshold calculated: {threshold:.6f}\")\n",
    "    return threshold, errors\n",
    "\n",
    "\n",
    "def save_autoencoder_model(autoencoder, threshold):\n",
    "    \"\"\"\n",
    "    Save autoencoder and threshold\n",
    "    \"\"\"\n",
    "    os.makedirs(\"../models\", exist_ok=True)\n",
    "\n",
    "    autoencoder.save(\"../models/autoencoder.keras\")\n",
    "\n",
    "    with open(\"../models/threshold.json\", \"w\") as f:\n",
    "        json.dump({\"threshold\": float(threshold)}, f)\n",
    "\n",
    "    print(\"Autoencoder and threshold saved!\")\n",
    "\n",
    "\n",
    "def plot_training_results(history, errors, threshold):\n",
    "    \"\"\"\n",
    "    Plot training results\n",
    "    \"\"\"\n",
    "    plt.figure(figsize=(12, 4))\n",
    "\n",
    "    plt.subplot(1, 2, 1)\n",
    "    plt.plot(history.history[\"loss\"], label=\"Training Loss\")\n",
    "    plt.plot(history.history[\"val_loss\"], label=\"Validation Loss\")\n",
    "    plt.title(\"Training History\")\n",
    "    plt.xlabel(\"Epoch\")\n",
    "    plt.ylabel(\"Loss\")\n",
    "    plt.legend()\n",
    "    plt.grid(True)\n",
    "\n",
    "    plt.subplot(1, 2, 2)\n",
    "    plt.hist(errors, bins=50, alpha=0.7)\n",
    "    plt.axvline(\n",
    "        threshold, color=\"red\", linestyle=\"--\", label=f\"Threshold: {threshold:.6f}\"\n",
    "    )\n",
    "    plt.title(\"Reconstruction Errors\")\n",
    "    plt.xlabel(\"Error\")\n",
    "    plt.ylabel(\"Frequency\")\n",
    "    plt.legend()\n",
    "    plt.grid(True)\n",
    "\n",
    "    plt.tight_layout()\n",
    "    plt.show()\n",
    "\n",
    "\n",
    "def convert_to_tflite(autoencoder):\n",
    "    \"\"\"\n",
    "    Convert autoencoder to TFLite\n",
    "    \"\"\"\n",
    "    os.makedirs(\"../models/tflite\", exist_ok=True)\n",
    "\n",
    "    converter = tf.lite.TFLiteConverter.from_keras_model(autoencoder)\n",
    "    tflite_model = converter.convert()\n",
    "\n",
    "    with open(\"../models/tflite/autoencoder.tflite\", \"wb\") as f:\n",
    "        f.write(tflite_model)\n",
    "\n",
    "    print(\"Autoencoder converted to TFLite!\")"
   ]
  },
  {
   "cell_type": "code",
   "execution_count": 63,
   "id": "caffc58f",
   "metadata": {},
   "outputs": [
    {
     "name": "stdout",
     "output_type": "stream",
     "text": [
      "Epoch 1/50\n"
     ]
    },
    {
     "name": "stderr",
     "output_type": "stream",
     "text": [
      "/Users/hassankalantari/Documents/Self Projects/AirSketch/.venv/lib/python3.12/site-packages/keras/src/layers/activations/leaky_relu.py:41: UserWarning: Argument `alpha` is deprecated. Use `negative_slope` instead.\n",
      "  warnings.warn(\n"
     ]
    },
    {
     "name": "stdout",
     "output_type": "stream",
     "text": [
      "\u001b[1m23/23\u001b[0m \u001b[32m━━━━━━━━━━━━━━━━━━━━\u001b[0m\u001b[37m\u001b[0m \u001b[1m1s\u001b[0m 6ms/step - loss: 0.2073 - val_loss: 0.0210\n",
      "Epoch 2/50\n",
      "\u001b[1m23/23\u001b[0m \u001b[32m━━━━━━━━━━━━━━━━━━━━\u001b[0m\u001b[37m\u001b[0m \u001b[1m0s\u001b[0m 2ms/step - loss: 0.0647 - val_loss: 0.0157\n",
      "Epoch 3/50\n",
      "\u001b[1m23/23\u001b[0m \u001b[32m━━━━━━━━━━━━━━━━━━━━\u001b[0m\u001b[37m\u001b[0m \u001b[1m0s\u001b[0m 2ms/step - loss: 0.0262 - val_loss: 0.0149\n",
      "Epoch 4/50\n",
      "\u001b[1m23/23\u001b[0m \u001b[32m━━━━━━━━━━━━━━━━━━━━\u001b[0m\u001b[37m\u001b[0m \u001b[1m0s\u001b[0m 2ms/step - loss: 0.0143 - val_loss: 0.0133\n",
      "Epoch 5/50\n",
      "\u001b[1m23/23\u001b[0m \u001b[32m━━━━━━━━━━━━━━━━━━━━\u001b[0m\u001b[37m\u001b[0m \u001b[1m0s\u001b[0m 2ms/step - loss: 0.0111 - val_loss: 0.0119\n",
      "Epoch 6/50\n",
      "\u001b[1m23/23\u001b[0m \u001b[32m━━━━━━━━━━━━━━━━━━━━\u001b[0m\u001b[37m\u001b[0m \u001b[1m0s\u001b[0m 2ms/step - loss: 0.0092 - val_loss: 0.0100\n",
      "Epoch 7/50\n",
      "\u001b[1m23/23\u001b[0m \u001b[32m━━━━━━━━━━━━━━━━━━━━\u001b[0m\u001b[37m\u001b[0m \u001b[1m0s\u001b[0m 2ms/step - loss: 0.0080 - val_loss: 0.0086\n",
      "Epoch 8/50\n",
      "\u001b[1m23/23\u001b[0m \u001b[32m━━━━━━━━━━━━━━━━━━━━\u001b[0m\u001b[37m\u001b[0m \u001b[1m0s\u001b[0m 2ms/step - loss: 0.0073 - val_loss: 0.0073\n",
      "Epoch 9/50\n",
      "\u001b[1m23/23\u001b[0m \u001b[32m━━━━━━━━━━━━━━━━━━━━\u001b[0m\u001b[37m\u001b[0m \u001b[1m0s\u001b[0m 2ms/step - loss: 0.0068 - val_loss: 0.0064\n",
      "Epoch 10/50\n",
      "\u001b[1m23/23\u001b[0m \u001b[32m━━━━━━━━━━━━━━━━━━━━\u001b[0m\u001b[37m\u001b[0m \u001b[1m0s\u001b[0m 2ms/step - loss: 0.0065 - val_loss: 0.0058\n",
      "Epoch 11/50\n",
      "\u001b[1m23/23\u001b[0m \u001b[32m━━━━━━━━━━━━━━━━━━━━\u001b[0m\u001b[37m\u001b[0m \u001b[1m0s\u001b[0m 2ms/step - loss: 0.0061 - val_loss: 0.0052\n",
      "Epoch 12/50\n",
      "\u001b[1m23/23\u001b[0m \u001b[32m━━━━━━━━━━━━━━━━━━━━\u001b[0m\u001b[37m\u001b[0m \u001b[1m0s\u001b[0m 2ms/step - loss: 0.0054 - val_loss: 0.0048\n",
      "Epoch 13/50\n",
      "\u001b[1m23/23\u001b[0m \u001b[32m━━━━━━━━━━━━━━━━━━━━\u001b[0m\u001b[37m\u001b[0m \u001b[1m0s\u001b[0m 2ms/step - loss: 0.0055 - val_loss: 0.0046\n",
      "Epoch 14/50\n",
      "\u001b[1m23/23\u001b[0m \u001b[32m━━━━━━━━━━━━━━━━━━━━\u001b[0m\u001b[37m\u001b[0m \u001b[1m0s\u001b[0m 2ms/step - loss: 0.0050 - val_loss: 0.0042\n",
      "Epoch 15/50\n",
      "\u001b[1m23/23\u001b[0m \u001b[32m━━━━━━━━━━━━━━━━━━━━\u001b[0m\u001b[37m\u001b[0m \u001b[1m0s\u001b[0m 2ms/step - loss: 0.0049 - val_loss: 0.0040\n",
      "Epoch 16/50\n",
      "\u001b[1m23/23\u001b[0m \u001b[32m━━━━━━━━━━━━━━━━━━━━\u001b[0m\u001b[37m\u001b[0m \u001b[1m0s\u001b[0m 2ms/step - loss: 0.0048 - val_loss: 0.0039\n",
      "Epoch 17/50\n",
      "\u001b[1m23/23\u001b[0m \u001b[32m━━━━━━━━━━━━━━━━━━━━\u001b[0m\u001b[37m\u001b[0m \u001b[1m0s\u001b[0m 2ms/step - loss: 0.0046 - val_loss: 0.0037\n",
      "Epoch 18/50\n",
      "\u001b[1m23/23\u001b[0m \u001b[32m━━━━━━━━━━━━━━━━━━━━\u001b[0m\u001b[37m\u001b[0m \u001b[1m0s\u001b[0m 2ms/step - loss: 0.0046 - val_loss: 0.0037\n",
      "Epoch 19/50\n",
      "\u001b[1m23/23\u001b[0m \u001b[32m━━━━━━━━━━━━━━━━━━━━\u001b[0m\u001b[37m\u001b[0m \u001b[1m0s\u001b[0m 2ms/step - loss: 0.0045 - val_loss: 0.0036\n",
      "Epoch 20/50\n",
      "\u001b[1m23/23\u001b[0m \u001b[32m━━━━━━━━━━━━━━━━━━━━\u001b[0m\u001b[37m\u001b[0m \u001b[1m0s\u001b[0m 2ms/step - loss: 0.0045 - val_loss: 0.0035\n",
      "Epoch 21/50\n",
      "\u001b[1m23/23\u001b[0m \u001b[32m━━━━━━━━━━━━━━━━━━━━\u001b[0m\u001b[37m\u001b[0m \u001b[1m0s\u001b[0m 2ms/step - loss: 0.0042 - val_loss: 0.0035\n",
      "Epoch 22/50\n",
      "\u001b[1m23/23\u001b[0m \u001b[32m━━━━━━━━━━━━━━━━━━━━\u001b[0m\u001b[37m\u001b[0m \u001b[1m0s\u001b[0m 2ms/step - loss: 0.0043 - val_loss: 0.0033\n",
      "Epoch 23/50\n",
      "\u001b[1m23/23\u001b[0m \u001b[32m━━━━━━━━━━━━━━━━━━━━\u001b[0m\u001b[37m\u001b[0m \u001b[1m0s\u001b[0m 2ms/step - loss: 0.0041 - val_loss: 0.0033\n",
      "Epoch 24/50\n",
      "\u001b[1m23/23\u001b[0m \u001b[32m━━━━━━━━━━━━━━━━━━━━\u001b[0m\u001b[37m\u001b[0m \u001b[1m0s\u001b[0m 2ms/step - loss: 0.0039 - val_loss: 0.0032\n",
      "Epoch 25/50\n",
      "\u001b[1m23/23\u001b[0m \u001b[32m━━━━━━━━━━━━━━━━━━━━\u001b[0m\u001b[37m\u001b[0m \u001b[1m0s\u001b[0m 3ms/step - loss: 0.0039 - val_loss: 0.0031\n",
      "Epoch 26/50\n",
      "\u001b[1m23/23\u001b[0m \u001b[32m━━━━━━━━━━━━━━━━━━━━\u001b[0m\u001b[37m\u001b[0m \u001b[1m0s\u001b[0m 2ms/step - loss: 0.0037 - val_loss: 0.0030\n",
      "Epoch 27/50\n",
      "\u001b[1m23/23\u001b[0m \u001b[32m━━━━━━━━━━━━━━━━━━━━\u001b[0m\u001b[37m\u001b[0m \u001b[1m0s\u001b[0m 2ms/step - loss: 0.0038 - val_loss: 0.0030\n",
      "Epoch 28/50\n",
      "\u001b[1m23/23\u001b[0m \u001b[32m━━━━━━━━━━━━━━━━━━━━\u001b[0m\u001b[37m\u001b[0m \u001b[1m0s\u001b[0m 2ms/step - loss: 0.0037 - val_loss: 0.0028\n",
      "Epoch 29/50\n",
      "\u001b[1m23/23\u001b[0m \u001b[32m━━━━━━━━━━━━━━━━━━━━\u001b[0m\u001b[37m\u001b[0m \u001b[1m0s\u001b[0m 2ms/step - loss: 0.0034 - val_loss: 0.0028\n",
      "Epoch 30/50\n",
      "\u001b[1m23/23\u001b[0m \u001b[32m━━━━━━━━━━━━━━━━━━━━\u001b[0m\u001b[37m\u001b[0m \u001b[1m0s\u001b[0m 2ms/step - loss: 0.0034 - val_loss: 0.0027\n",
      "Epoch 31/50\n",
      "\u001b[1m23/23\u001b[0m \u001b[32m━━━━━━━━━━━━━━━━━━━━\u001b[0m\u001b[37m\u001b[0m \u001b[1m0s\u001b[0m 2ms/step - loss: 0.0033 - val_loss: 0.0026\n",
      "Epoch 32/50\n",
      "\u001b[1m23/23\u001b[0m \u001b[32m━━━━━━━━━━━━━━━━━━━━\u001b[0m\u001b[37m\u001b[0m \u001b[1m0s\u001b[0m 2ms/step - loss: 0.0032 - val_loss: 0.0027\n",
      "Epoch 33/50\n",
      "\u001b[1m23/23\u001b[0m \u001b[32m━━━━━━━━━━━━━━━━━━━━\u001b[0m\u001b[37m\u001b[0m \u001b[1m0s\u001b[0m 2ms/step - loss: 0.0031 - val_loss: 0.0025\n",
      "Epoch 34/50\n",
      "\u001b[1m23/23\u001b[0m \u001b[32m━━━━━━━━━━━━━━━━━━━━\u001b[0m\u001b[37m\u001b[0m \u001b[1m0s\u001b[0m 2ms/step - loss: 0.0030 - val_loss: 0.0025\n",
      "Epoch 35/50\n",
      "\u001b[1m23/23\u001b[0m \u001b[32m━━━━━━━━━━━━━━━━━━━━\u001b[0m\u001b[37m\u001b[0m \u001b[1m0s\u001b[0m 2ms/step - loss: 0.0030 - val_loss: 0.0024\n",
      "Epoch 36/50\n",
      "\u001b[1m23/23\u001b[0m \u001b[32m━━━━━━━━━━━━━━━━━━━━\u001b[0m\u001b[37m\u001b[0m \u001b[1m0s\u001b[0m 2ms/step - loss: 0.0029 - val_loss: 0.0023\n",
      "Epoch 37/50\n",
      "\u001b[1m23/23\u001b[0m \u001b[32m━━━━━━━━━━━━━━━━━━━━\u001b[0m\u001b[37m\u001b[0m \u001b[1m0s\u001b[0m 2ms/step - loss: 0.0029 - val_loss: 0.0023\n",
      "Epoch 38/50\n",
      "\u001b[1m23/23\u001b[0m \u001b[32m━━━━━━━━━━━━━━━━━━━━\u001b[0m\u001b[37m\u001b[0m \u001b[1m0s\u001b[0m 2ms/step - loss: 0.0029 - val_loss: 0.0022\n",
      "Epoch 39/50\n",
      "\u001b[1m23/23\u001b[0m \u001b[32m━━━━━━━━━━━━━━━━━━━━\u001b[0m\u001b[37m\u001b[0m \u001b[1m0s\u001b[0m 2ms/step - loss: 0.0028 - val_loss: 0.0023\n",
      "Epoch 40/50\n",
      "\u001b[1m23/23\u001b[0m \u001b[32m━━━━━━━━━━━━━━━━━━━━\u001b[0m\u001b[37m\u001b[0m \u001b[1m0s\u001b[0m 2ms/step - loss: 0.0028 - val_loss: 0.0021\n",
      "Epoch 41/50\n",
      "\u001b[1m23/23\u001b[0m \u001b[32m━━━━━━━━━━━━━━━━━━━━\u001b[0m\u001b[37m\u001b[0m \u001b[1m0s\u001b[0m 2ms/step - loss: 0.0027 - val_loss: 0.0022\n",
      "Epoch 42/50\n",
      "\u001b[1m23/23\u001b[0m \u001b[32m━━━━━━━━━━━━━━━━━━━━\u001b[0m\u001b[37m\u001b[0m \u001b[1m0s\u001b[0m 2ms/step - loss: 0.0028 - val_loss: 0.0021\n",
      "Epoch 43/50\n",
      "\u001b[1m23/23\u001b[0m \u001b[32m━━━━━━━━━━━━━━━━━━━━\u001b[0m\u001b[37m\u001b[0m \u001b[1m0s\u001b[0m 2ms/step - loss: 0.0027 - val_loss: 0.0021\n",
      "Epoch 44/50\n",
      "\u001b[1m23/23\u001b[0m \u001b[32m━━━━━━━━━━━━━━━━━━━━\u001b[0m\u001b[37m\u001b[0m \u001b[1m0s\u001b[0m 2ms/step - loss: 0.0027 - val_loss: 0.0020\n",
      "Epoch 45/50\n",
      "\u001b[1m23/23\u001b[0m \u001b[32m━━━━━━━━━━━━━━━━━━━━\u001b[0m\u001b[37m\u001b[0m \u001b[1m0s\u001b[0m 2ms/step - loss: 0.0025 - val_loss: 0.0021\n",
      "Epoch 46/50\n",
      "\u001b[1m23/23\u001b[0m \u001b[32m━━━━━━━━━━━━━━━━━━━━\u001b[0m\u001b[37m\u001b[0m \u001b[1m0s\u001b[0m 2ms/step - loss: 0.0026 - val_loss: 0.0019\n",
      "Epoch 47/50\n",
      "\u001b[1m23/23\u001b[0m \u001b[32m━━━━━━━━━━━━━━━━━━━━\u001b[0m\u001b[37m\u001b[0m \u001b[1m0s\u001b[0m 2ms/step - loss: 0.0025 - val_loss: 0.0020\n",
      "Epoch 48/50\n",
      "\u001b[1m23/23\u001b[0m \u001b[32m━━━━━━━━━━━━━━━━━━━━\u001b[0m\u001b[37m\u001b[0m \u001b[1m0s\u001b[0m 4ms/step - loss: 0.0024 - val_loss: 0.0018\n",
      "Epoch 49/50\n",
      "\u001b[1m23/23\u001b[0m \u001b[32m━━━━━━━━━━━━━━━━━━━━\u001b[0m\u001b[37m\u001b[0m \u001b[1m0s\u001b[0m 2ms/step - loss: 0.0023 - val_loss: 0.0018\n",
      "Epoch 50/50\n",
      "\u001b[1m23/23\u001b[0m \u001b[32m━━━━━━━━━━━━━━━━━━━━\u001b[0m\u001b[37m\u001b[0m \u001b[1m0s\u001b[0m 2ms/step - loss: 0.0024 - val_loss: 0.0019\n"
     ]
    }
   ],
   "source": [
    "# Train autoencoder\n",
    "autoencoder, X_train, history = train_autoencoder_model(X, epochs=50)"
   ]
  },
  {
   "cell_type": "code",
   "execution_count": 64,
   "id": "b8214aaa",
   "metadata": {},
   "outputs": [
    {
     "name": "stdout",
     "output_type": "stream",
     "text": [
      "Threshold calculated: 0.003350\n"
     ]
    }
   ],
   "source": [
    "# Calculate threshold\n",
    "threshold, errors = calculate_threshold(autoencoder, X_train)"
   ]
  },
  {
   "cell_type": "code",
   "execution_count": 65,
   "id": "11e0863a",
   "metadata": {},
   "outputs": [
    {
     "name": "stdout",
     "output_type": "stream",
     "text": [
      "Autoencoder and threshold saved!\n"
     ]
    }
   ],
   "source": [
    "# Save models\n",
    "save_autoencoder_model(autoencoder, threshold)"
   ]
  },
  {
   "cell_type": "code",
   "execution_count": 66,
   "id": "299bd198",
   "metadata": {},
   "outputs": [
    {
     "name": "stdout",
     "output_type": "stream",
     "text": [
      "INFO:tensorflow:Assets written to: /var/folders/vm/p9d_yt5d4bv7vryrrsq_1psc0000gn/T/tmp6drtbdds/assets\n"
     ]
    },
    {
     "name": "stderr",
     "output_type": "stream",
     "text": [
      "INFO:tensorflow:Assets written to: /var/folders/vm/p9d_yt5d4bv7vryrrsq_1psc0000gn/T/tmp6drtbdds/assets\n"
     ]
    },
    {
     "name": "stdout",
     "output_type": "stream",
     "text": [
      "Saved artifact at '/var/folders/vm/p9d_yt5d4bv7vryrrsq_1psc0000gn/T/tmp6drtbdds'. The following endpoints are available:\n",
      "\n",
      "* Endpoint 'serve'\n",
      "  args_0 (POSITIONAL_ONLY): TensorSpec(shape=(None, 42), dtype=tf.float32, name='input_layer')\n",
      "Output Type:\n",
      "  TensorSpec(shape=(None, 42), dtype=tf.float32, name=None)\n",
      "Captures:\n",
      "  5821357840: TensorSpec(shape=(), dtype=tf.resource, name=None)\n",
      "  5821354192: TensorSpec(shape=(), dtype=tf.resource, name=None)\n",
      "  5821356880: TensorSpec(shape=(), dtype=tf.resource, name=None)\n",
      "  5821354960: TensorSpec(shape=(), dtype=tf.resource, name=None)\n",
      "  5821354576: TensorSpec(shape=(), dtype=tf.resource, name=None)\n",
      "  5821366096: TensorSpec(shape=(), dtype=tf.resource, name=None)\n",
      "  5821354384: TensorSpec(shape=(), dtype=tf.resource, name=None)\n",
      "  5821353424: TensorSpec(shape=(), dtype=tf.resource, name=None)\n",
      "  5821357072: TensorSpec(shape=(), dtype=tf.resource, name=None)\n",
      "  5821352464: TensorSpec(shape=(), dtype=tf.resource, name=None)\n",
      "  5821355344: TensorSpec(shape=(), dtype=tf.resource, name=None)\n",
      "  5821356688: TensorSpec(shape=(), dtype=tf.resource, name=None)\n",
      "  5821365712: TensorSpec(shape=(), dtype=tf.resource, name=None)\n",
      "  5821355920: TensorSpec(shape=(), dtype=tf.resource, name=None)\n",
      "  5781471888: TensorSpec(shape=(), dtype=tf.float32, name=None)\n",
      "  5821352080: TensorSpec(shape=(), dtype=tf.resource, name=None)\n",
      "  5821350160: TensorSpec(shape=(), dtype=tf.resource, name=None)\n",
      "  5821355536: TensorSpec(shape=(), dtype=tf.resource, name=None)\n",
      "  5821356112: TensorSpec(shape=(), dtype=tf.resource, name=None)\n",
      "  5821355152: TensorSpec(shape=(), dtype=tf.resource, name=None)\n",
      "  5821354768: TensorSpec(shape=(), dtype=tf.resource, name=None)\n",
      "  5793874000: TensorSpec(shape=(), dtype=tf.resource, name=None)\n",
      "  5821356304: TensorSpec(shape=(), dtype=tf.resource, name=None)\n",
      "  5821355728: TensorSpec(shape=(), dtype=tf.resource, name=None)\n",
      "  5821360720: TensorSpec(shape=(), dtype=tf.resource, name=None)\n",
      "  5821353808: TensorSpec(shape=(), dtype=tf.resource, name=None)\n",
      "  5821351504: TensorSpec(shape=(), dtype=tf.resource, name=None)\n",
      "  5821353616: TensorSpec(shape=(), dtype=tf.resource, name=None)\n",
      "  5821352656: TensorSpec(shape=(), dtype=tf.resource, name=None)\n"
     ]
    },
    {
     "name": "stderr",
     "output_type": "stream",
     "text": [
      "W0000 00:00:1758641456.637120  353335 tf_tfl_flatbuffer_helpers.cc:365] Ignored output_format.\n",
      "W0000 00:00:1758641456.637140  353335 tf_tfl_flatbuffer_helpers.cc:368] Ignored drop_control_dependency.\n"
     ]
    },
    {
     "name": "stdout",
     "output_type": "stream",
     "text": [
      "Autoencoder converted to TFLite!\n"
     ]
    }
   ],
   "source": [
    "convert_to_tflite(autoencoder)"
   ]
  },
  {
   "cell_type": "code",
   "execution_count": 67,
   "id": "f632378e",
   "metadata": {},
   "outputs": [
    {
     "data": {
      "image/png": "[encoded data removed]",
      "text/plain": [
       "<Figure size 1200x400 with 2 Axes>"
      ]
     },
     "metadata": {},
     "output_type": "display_data"
    }
   ],
   "source": [
    "# Plot results\n",
    "plot_training_results(history, errors, threshold)"
   ]
  },
  {
   "cell_type": "code",
   "execution_count": null,
   "id": "ca0eae08",
   "metadata": {},
   "outputs": [],
   "source": []
  }
 ],
 "metadata": {
  "kernelspec": {
   "display_name": ".venv",
   "language": "python",
   "name": "python3"
  },
  "language_info": {
   "codemirror_mode": {
    "name": "ipython",
    "version": 3
   },
   "file_extension": ".py",
   "mimetype": "text/x-python",
   "name": "python",
   "nbconvert_exporter": "python",
   "pygments_lexer": "ipython3",
   "version": "3.12.9"
  }
 },
 "nbformat": 4,
 "nbformat_minor": 5
}
