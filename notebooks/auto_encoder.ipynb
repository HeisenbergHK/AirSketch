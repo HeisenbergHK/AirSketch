{
 "cells": [
  {
   "cell_type": "code",
   "execution_count": 45,
   "id": "5c774f73",
   "metadata": {},
   "outputs": [],
   "source": [
    "import tensorflow as tf\n",
    "import numpy as np\n",
    "import pandas as pd\n",
    "from sklearn.model_selection import train_test_split\n",
    "import matplotlib.pyplot as plt\n",
    "import json\n",
    "import os"
   ]
  },
  {
   "cell_type": "code",
   "execution_count": 46,
   "id": "e03fa7ba",
   "metadata": {},
   "outputs": [
    {
     "name": "stdout",
     "output_type": "stream",
     "text": [
      "Dataset loaded: 908 samples, 42 features\n"
     ]
    }
   ],
   "source": [
    "# Load dataset for autoencoder training\n",
    "\n",
    "df = pd.read_csv(\"../data/hand_landmarks_dataset_normalized_to_the_wrist.csv\")\n",
    "feature_columns = [col for col in df.columns if col.startswith((\"x\", \"y\"))]\n",
    "X = df[feature_columns].values.astype(np.float32)\n",
    "\n",
    "print(f\"Dataset loaded: {X.shape[0]} samples, {X.shape[1]} features\")"
   ]
  },
  {
   "cell_type": "code",
   "execution_count": 47,
   "id": "f82da28d",
   "metadata": {},
   "outputs": [],
   "source": [
    "import tensorflow as tf\n",
    "\n",
    "\n",
    "def create_autoencoder(input_dim):\n",
    "    \"\"\"\n",
    "    Improved autoencoder with normalization, dropout, and better initialization.\n",
    "    \"\"\"\n",
    "    model = tf.keras.models.Sequential(\n",
    "        [\n",
    "            # Input with noise for robustness\n",
    "            tf.keras.layers.Input((input_dim,), name=\"input_layer\"),\n",
    "            tf.keras.layers.GaussianNoise(0.05, name=\"input_noise\"),\n",
    "            # Encoder\n",
    "            tf.keras.layers.Dense(\n",
    "                64, kernel_initializer=\"he_normal\", name=\"encoder_dense1\"\n",
    "            ),\n",
    "            tf.keras.layers.BatchNormalization(name=\"encoder_bn1\"),\n",
    "            tf.keras.layers.LeakyReLU(alpha=0.1, name=\"encoder_act1\"),\n",
    "            tf.keras.layers.Dense(\n",
    "                32, kernel_initializer=\"he_normal\", name=\"encoder_dense2\"\n",
    "            ),\n",
    "            tf.keras.layers.BatchNormalization(name=\"encoder_bn2\"),\n",
    "            tf.keras.layers.LeakyReLU(alpha=0.1, name=\"encoder_act2\"),\n",
    "            # Bottleneck\n",
    "            tf.keras.layers.Dense(\n",
    "                8,\n",
    "                activation=None,\n",
    "                kernel_initializer=\"he_normal\",\n",
    "                activity_regularizer=tf.keras.regularizers.L1(1e-5),\n",
    "                name=\"bottleneck\",\n",
    "            ),\n",
    "            # Decoder\n",
    "            tf.keras.layers.Dense(\n",
    "                32, kernel_initializer=\"he_normal\", name=\"decoder_dense1\"\n",
    "            ),\n",
    "            tf.keras.layers.BatchNormalization(name=\"decoder_bn1\"),\n",
    "            tf.keras.layers.LeakyReLU(alpha=0.1, name=\"decoder_act1\"),\n",
    "            tf.keras.layers.Dense(\n",
    "                64, kernel_initializer=\"he_normal\", name=\"decoder_dense2\"\n",
    "            ),\n",
    "            tf.keras.layers.BatchNormalization(name=\"decoder_bn2\"),\n",
    "            tf.keras.layers.LeakyReLU(alpha=0.1, name=\"decoder_act2\"),\n",
    "            # Output\n",
    "            tf.keras.layers.Dense(input_dim, activation=\"linear\", name=\"output_layer\"),\n",
    "        ]\n",
    "    )\n",
    "\n",
    "    # Use AdamW + Huber loss for stability\n",
    "    model.compile(\n",
    "        optimizer=tf.keras.optimizers.AdamW(learning_rate=1e-3, weight_decay=1e-5),\n",
    "        loss=tf.keras.losses.Huber(),\n",
    "    )\n",
    "\n",
    "    return model\n",
    "\n",
    "\n",
    "def train_autoencoder_model(X, epochs=20):\n",
    "    \"\"\"\n",
    "    Train the autoencoder\n",
    "    \"\"\"\n",
    "    X_train, X_val = train_test_split(X, test_size=0.2, random_state=42)\n",
    "\n",
    "    autoencoder = create_autoencoder(X.shape[1])\n",
    "\n",
    "    callbacks = [\n",
    "        tf.keras.callbacks.EarlyStopping(\n",
    "            monitor=\"val_loss\", patience=15, restore_best_weights=True\n",
    "        )\n",
    "    ]\n",
    "\n",
    "    history = autoencoder.fit(\n",
    "        X_train,\n",
    "        X_train,\n",
    "        validation_data=(X_val, X_val),\n",
    "        epochs=epochs,\n",
    "        batch_size=32,\n",
    "        callbacks=callbacks,\n",
    "        verbose=1,\n",
    "    )\n",
    "\n",
    "    return autoencoder, X_train, history\n",
    "\n",
    "\n",
    "def calculate_threshold(autoencoder, X_train, percentile=95):\n",
    "    \"\"\"\n",
    "    Calculate reconstruction error threshold\n",
    "    \"\"\"\n",
    "    reconstructions = autoencoder.predict(X_train, verbose=0)\n",
    "    errors = np.mean(np.square(X_train - reconstructions), axis=1)\n",
    "    threshold = np.percentile(errors, percentile)\n",
    "\n",
    "    print(f\"Threshold calculated: {threshold:.6f}\")\n",
    "    return threshold, errors\n",
    "\n",
    "\n",
    "def save_autoencoder_model(autoencoder, threshold):\n",
    "    \"\"\"\n",
    "    Save autoencoder and threshold\n",
    "    \"\"\"\n",
    "    os.makedirs(\"../models\", exist_ok=True)\n",
    "\n",
    "    autoencoder.save(\"../models/autoencoder.keras\")\n",
    "\n",
    "    with open(\"../models/threshold.json\", \"w\") as f:\n",
    "        json.dump({\"threshold\": float(threshold)}, f)\n",
    "\n",
    "    print(\"Autoencoder and threshold saved!\")\n",
    "\n",
    "\n",
    "def plot_training_results(history, errors, threshold):\n",
    "    \"\"\"\n",
    "    Plot training results\n",
    "    \"\"\"\n",
    "    import os\n",
    "\n",
    "    os.makedirs(\"../models/autoencoder_plots\", exist_ok=True)\n",
    "\n",
    "    # Training history plot\n",
    "    plt.figure(figsize=(8, 6))\n",
    "    plt.plot(history.history[\"loss\"], label=\"Training Loss\")\n",
    "    plt.plot(history.history[\"val_loss\"], label=\"Validation Loss\")\n",
    "    plt.title(\"Training History\")\n",
    "    plt.xlabel(\"Epoch\")\n",
    "    plt.ylabel(\"Loss\")\n",
    "    plt.legend()\n",
    "    plt.grid(True)\n",
    "    plt.savefig(\n",
    "        \"../models/autoencoder_plots/training_history.png\", dpi=300, bbox_inches=\"tight\"\n",
    "    )\n",
    "    plt.show()\n",
    "\n",
    "    # Reconstruction errors plot\n",
    "    plt.figure(figsize=(8, 6))\n",
    "    plt.hist(errors, bins=50, alpha=0.7)\n",
    "    plt.axvline(\n",
    "        threshold, color=\"red\", linestyle=\"--\", label=f\"Threshold: {threshold:.6f}\"\n",
    "    )\n",
    "    plt.title(\"Reconstruction Errors\")\n",
    "    plt.xlabel(\"Error\")\n",
    "    plt.ylabel(\"Frequency\")\n",
    "    plt.legend()\n",
    "    plt.grid(True)\n",
    "    plt.savefig(\n",
    "        \"../models/autoencoder_plots/reconstruction_errors.png\",\n",
    "        dpi=300,\n",
    "        bbox_inches=\"tight\",\n",
    "    )\n",
    "    plt.show()\n",
    "\n",
    "\n",
    "def convert_to_tflite(autoencoder):\n",
    "    \"\"\"\n",
    "    Convert autoencoder to TFLite\n",
    "    \"\"\"\n",
    "    os.makedirs(\"../models/tflite\", exist_ok=True)\n",
    "\n",
    "    converter = tf.lite.TFLiteConverter.from_keras_model(autoencoder)\n",
    "    tflite_model = converter.convert()\n",
    "\n",
    "    with open(\"../models/tflite/autoencoder.tflite\", \"wb\") as f:\n",
    "        f.write(tflite_model)\n",
    "\n",
    "    print(\"Autoencoder converted to TFLite!\")"
   ]
  },
  {
   "cell_type": "code",
   "execution_count": 48,
   "id": "caffc58f",
   "metadata": {},
   "outputs": [
    {
     "name": "stdout",
     "output_type": "stream",
     "text": [
      "Epoch 1/20\n"
     ]
    },
    {
     "name": "stderr",
     "output_type": "stream",
     "text": [
      "/Users/hassankalantari/Documents/Self Projects/AirSketch/.venv/lib/python3.12/site-packages/keras/src/layers/activations/leaky_relu.py:41: UserWarning: Argument `alpha` is deprecated. Use `negative_slope` instead.\n",
      "  warnings.warn(\n"
     ]
    },
    {
     "name": "stdout",
     "output_type": "stream",
     "text": [
      "\u001b[1m23/23\u001b[0m \u001b[32m━━━━━━━━━━━━━━━━━━━━\u001b[0m\u001b[37m\u001b[0m \u001b[1m1s\u001b[0m 6ms/step - loss: 0.2158 - val_loss: 0.0868\n",
      "Epoch 2/20\n",
      "\u001b[1m23/23\u001b[0m \u001b[32m━━━━━━━━━━━━━━━━━━━━\u001b[0m\u001b[37m\u001b[0m \u001b[1m0s\u001b[0m 2ms/step - loss: 0.0718 - val_loss: 0.0460\n",
      "Epoch 3/20\n",
      "\u001b[1m23/23\u001b[0m \u001b[32m━━━━━━━━━━━━━━━━━━━━\u001b[0m\u001b[37m\u001b[0m \u001b[1m0s\u001b[0m 2ms/step - loss: 0.0314 - val_loss: 0.0302\n",
      "Epoch 4/20\n",
      "\u001b[1m23/23\u001b[0m \u001b[32m━━━━━━━━━━━━━━━━━━━━\u001b[0m\u001b[37m\u001b[0m \u001b[1m0s\u001b[0m 4ms/step - loss: 0.0192 - val_loss: 0.0218\n",
      "Epoch 5/20\n",
      "\u001b[1m23/23\u001b[0m \u001b[32m━━━━━━━━━━━━━━━━━━━━\u001b[0m\u001b[37m\u001b[0m \u001b[1m0s\u001b[0m 3ms/step - loss: 0.0154 - val_loss: 0.0170\n",
      "Epoch 6/20\n",
      "\u001b[1m23/23\u001b[0m \u001b[32m━━━━━━━━━━━━━━━━━━━━\u001b[0m\u001b[37m\u001b[0m \u001b[1m0s\u001b[0m 2ms/step - loss: 0.0137 - val_loss: 0.0141\n",
      "Epoch 7/20\n",
      "\u001b[1m23/23\u001b[0m \u001b[32m━━━━━━━━━━━━━━━━━━━━\u001b[0m\u001b[37m\u001b[0m \u001b[1m0s\u001b[0m 2ms/step - loss: 0.0116 - val_loss: 0.0113\n",
      "Epoch 8/20\n",
      "\u001b[1m23/23\u001b[0m \u001b[32m━━━━━━━━━━━━━━━━━━━━\u001b[0m\u001b[37m\u001b[0m \u001b[1m0s\u001b[0m 2ms/step - loss: 0.0113 - val_loss: 0.0098\n",
      "Epoch 9/20\n",
      "\u001b[1m23/23\u001b[0m \u001b[32m━━━━━━━━━━━━━━━━━━━━\u001b[0m\u001b[37m\u001b[0m \u001b[1m0s\u001b[0m 3ms/step - loss: 0.0114 - val_loss: 0.0090\n",
      "Epoch 10/20\n",
      "\u001b[1m23/23\u001b[0m \u001b[32m━━━━━━━━━━━━━━━━━━━━\u001b[0m\u001b[37m\u001b[0m \u001b[1m0s\u001b[0m 2ms/step - loss: 0.0108 - val_loss: 0.0081\n",
      "Epoch 11/20\n",
      "\u001b[1m23/23\u001b[0m \u001b[32m━━━━━━━━━━━━━━━━━━━━\u001b[0m\u001b[37m\u001b[0m \u001b[1m0s\u001b[0m 2ms/step - loss: 0.0110 - val_loss: 0.0074\n",
      "Epoch 12/20\n",
      "\u001b[1m23/23\u001b[0m \u001b[32m━━━━━━━━━━━━━━━━━━━━\u001b[0m\u001b[37m\u001b[0m \u001b[1m0s\u001b[0m 2ms/step - loss: 0.0092 - val_loss: 0.0070\n",
      "Epoch 13/20\n",
      "\u001b[1m23/23\u001b[0m \u001b[32m━━━━━━━━━━━━━━━━━━━━\u001b[0m\u001b[37m\u001b[0m \u001b[1m0s\u001b[0m 2ms/step - loss: 0.0097 - val_loss: 0.0065\n",
      "Epoch 14/20\n",
      "\u001b[1m23/23\u001b[0m \u001b[32m━━━━━━━━━━━━━━━━━━━━\u001b[0m\u001b[37m\u001b[0m \u001b[1m0s\u001b[0m 2ms/step - loss: 0.0084 - val_loss: 0.0064\n",
      "Epoch 15/20\n",
      "\u001b[1m23/23\u001b[0m \u001b[32m━━━━━━━━━━━━━━━━━━━━\u001b[0m\u001b[37m\u001b[0m \u001b[1m0s\u001b[0m 2ms/step - loss: 0.0081 - val_loss: 0.0061\n",
      "Epoch 16/20\n",
      "\u001b[1m23/23\u001b[0m \u001b[32m━━━━━━━━━━━━━━━━━━━━\u001b[0m\u001b[37m\u001b[0m \u001b[1m0s\u001b[0m 3ms/step - loss: 0.0080 - val_loss: 0.0058\n",
      "Epoch 17/20\n",
      "\u001b[1m23/23\u001b[0m \u001b[32m━━━━━━━━━━━━━━━━━━━━\u001b[0m\u001b[37m\u001b[0m \u001b[1m0s\u001b[0m 2ms/step - loss: 0.0079 - val_loss: 0.0058\n",
      "Epoch 18/20\n",
      "\u001b[1m23/23\u001b[0m \u001b[32m━━━━━━━━━━━━━━━━━━━━\u001b[0m\u001b[37m\u001b[0m \u001b[1m0s\u001b[0m 2ms/step - loss: 0.0075 - val_loss: 0.0054\n",
      "Epoch 19/20\n",
      "\u001b[1m23/23\u001b[0m \u001b[32m━━━━━━━━━━━━━━━━━━━━\u001b[0m\u001b[37m\u001b[0m \u001b[1m0s\u001b[0m 2ms/step - loss: 0.0084 - val_loss: 0.0053\n",
      "Epoch 20/20\n",
      "\u001b[1m23/23\u001b[0m \u001b[32m━━━━━━━━━━━━━━━━━━━━\u001b[0m\u001b[37m\u001b[0m \u001b[1m0s\u001b[0m 2ms/step - loss: 0.0077 - val_loss: 0.0050\n"
     ]
    }
   ],
   "source": [
    "# Train autoencoder\n",
    "autoencoder, X_train, history = train_autoencoder_model(X, epochs=20)"
   ]
  },
  {
   "cell_type": "code",
   "execution_count": 49,
   "id": "b8214aaa",
   "metadata": {},
   "outputs": [
    {
     "name": "stdout",
     "output_type": "stream",
     "text": [
      "Threshold calculated: 0.011422\n"
     ]
    }
   ],
   "source": [
    "# Calculate threshold\n",
    "threshold, errors = calculate_threshold(autoencoder, X_train)"
   ]
  },
  {
   "cell_type": "code",
   "execution_count": 50,
   "id": "11e0863a",
   "metadata": {},
   "outputs": [
    {
     "name": "stdout",
     "output_type": "stream",
     "text": [
      "Autoencoder and threshold saved!\n"
     ]
    }
   ],
   "source": [
    "# Save models\n",
    "save_autoencoder_model(autoencoder, threshold)"
   ]
  },
  {
   "cell_type": "code",
   "execution_count": 51,
   "id": "299bd198",
   "metadata": {},
   "outputs": [
    {
     "name": "stdout",
     "output_type": "stream",
     "text": [
      "INFO:tensorflow:Assets written to: /var/folders/vm/p9d_yt5d4bv7vryrrsq_1psc0000gn/T/tmplhhhyl75/assets\n"
     ]
    },
    {
     "name": "stderr",
     "output_type": "stream",
     "text": [
      "INFO:tensorflow:Assets written to: /var/folders/vm/p9d_yt5d4bv7vryrrsq_1psc0000gn/T/tmplhhhyl75/assets\n"
     ]
    },
    {
     "name": "stdout",
     "output_type": "stream",
     "text": [
      "Saved artifact at '/var/folders/vm/p9d_yt5d4bv7vryrrsq_1psc0000gn/T/tmplhhhyl75'. The following endpoints are available:\n",
      "\n",
      "* Endpoint 'serve'\n",
      "  args_0 (POSITIONAL_ONLY): TensorSpec(shape=(None, 42), dtype=tf.float32, name='input_layer')\n",
      "Output Type:\n",
      "  TensorSpec(shape=(None, 42), dtype=tf.float32, name=None)\n",
      "Captures:\n",
      "  5811824656: TensorSpec(shape=(), dtype=tf.resource, name=None)\n",
      "  5811821968: TensorSpec(shape=(), dtype=tf.resource, name=None)\n",
      "  5811825040: TensorSpec(shape=(), dtype=tf.resource, name=None)\n",
      "  5811822736: TensorSpec(shape=(), dtype=tf.resource, name=None)\n",
      "  5811820816: TensorSpec(shape=(), dtype=tf.resource, name=None)\n",
      "  5811824848: TensorSpec(shape=(), dtype=tf.resource, name=None)\n",
      "  5811822160: TensorSpec(shape=(), dtype=tf.resource, name=None)\n",
      "  5811823888: TensorSpec(shape=(), dtype=tf.resource, name=None)\n",
      "  5811824272: TensorSpec(shape=(), dtype=tf.resource, name=None)\n",
      "  5811821392: TensorSpec(shape=(), dtype=tf.resource, name=None)\n",
      "  5811822928: TensorSpec(shape=(), dtype=tf.resource, name=None)\n",
      "  5811824464: TensorSpec(shape=(), dtype=tf.resource, name=None)\n",
      "  5811825424: TensorSpec(shape=(), dtype=tf.resource, name=None)\n",
      "  5811823696: TensorSpec(shape=(), dtype=tf.resource, name=None)\n",
      "  5811826000: TensorSpec(shape=(), dtype=tf.float32, name=None)\n",
      "  5811822544: TensorSpec(shape=(), dtype=tf.resource, name=None)\n",
      "  5811820048: TensorSpec(shape=(), dtype=tf.resource, name=None)\n",
      "  5811823312: TensorSpec(shape=(), dtype=tf.resource, name=None)\n",
      "  5811824080: TensorSpec(shape=(), dtype=tf.resource, name=None)\n",
      "  5811826576: TensorSpec(shape=(), dtype=tf.resource, name=None)\n",
      "  5811821200: TensorSpec(shape=(), dtype=tf.resource, name=None)\n",
      "  5811823504: TensorSpec(shape=(), dtype=tf.resource, name=None)\n",
      "  5811826960: TensorSpec(shape=(), dtype=tf.resource, name=None)\n",
      "  5811822352: TensorSpec(shape=(), dtype=tf.resource, name=None)\n",
      "  5811830416: TensorSpec(shape=(), dtype=tf.resource, name=None)\n",
      "  5811830608: TensorSpec(shape=(), dtype=tf.resource, name=None)\n",
      "  5811823120: TensorSpec(shape=(), dtype=tf.resource, name=None)\n",
      "  5811825808: TensorSpec(shape=(), dtype=tf.resource, name=None)\n",
      "  5811826192: TensorSpec(shape=(), dtype=tf.resource, name=None)\n",
      "Autoencoder converted to TFLite!\n"
     ]
    },
    {
     "name": "stderr",
     "output_type": "stream",
     "text": [
      "W0000 00:00:1758904417.620695 2507340 tf_tfl_flatbuffer_helpers.cc:365] Ignored output_format.\n",
      "W0000 00:00:1758904417.620707 2507340 tf_tfl_flatbuffer_helpers.cc:368] Ignored drop_control_dependency.\n"
     ]
    }
   ],
   "source": [
    "convert_to_tflite(autoencoder)"
   ]
  },
  {
   "cell_type": "code",
   "execution_count": 52,
   "id": "f632378e",
   "metadata": {},
   "outputs": [
    {
     "data": {
      "image/png": "[encoded data removed]",
      "text/plain": [
       "<Figure size 800x600 with 1 Axes>"
      ]
     },
     "metadata": {},
     "output_type": "display_data"
    },
    {
     "data": {
      "image/png": "[encoded data removed]",
      "text/plain": [
       "<Figure size 800x600 with 1 Axes>"
      ]
     },
     "metadata": {},
     "output_type": "display_data"
    }
   ],
   "source": [
    "# Plot results\n",
    "plot_training_results(history, errors, threshold)"
   ]
  },
  {
   "cell_type": "code",
   "execution_count": null,
   "id": "ca0eae08",
   "metadata": {},
   "outputs": [],
   "source": []
  }
 ],
 "metadata": {
  "kernelspec": {
   "display_name": ".venv",
   "language": "python",
   "name": "python3"
  },
  "language_info": {
   "codemirror_mode": {
    "name": "ipython",
    "version": 3
   },
   "file_extension": ".py",
   "mimetype": "text/x-python",
   "name": "python",
   "nbconvert_exporter": "python",
   "pygments_lexer": "ipython3",
   "version": "3.12.9"
  }
 },
 "nbformat": 4,
 "nbformat_minor": 5
}
