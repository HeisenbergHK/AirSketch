{
 "cells": [
  {
   "cell_type": "code",
   "execution_count": 151,
   "id": "5c774f73",
   "metadata": {},
   "outputs": [],
   "source": [
    "import tensorflow as tf\n",
    "import numpy as np\n",
    "import pandas as pd\n",
    "from sklearn.model_selection import train_test_split\n",
    "import matplotlib.pyplot as plt\n",
    "import json\n",
    "import os"
   ]
  },
  {
   "cell_type": "code",
   "execution_count": 152,
   "id": "e03fa7ba",
   "metadata": {},
   "outputs": [
    {
     "name": "stdout",
     "output_type": "stream",
     "text": [
      "Dataset loaded: 8866 samples, 42 features\n"
     ]
    }
   ],
   "source": [
    "# Load dataset for autoencoder training\n",
    "\n",
    "df = pd.read_csv(\"../data/hand_landmarks_dataset_normalized_to_the_wrist.csv\")\n",
    "feature_columns = [col for col in df.columns if col.startswith((\"x\", \"y\"))]\n",
    "X = df[feature_columns].values.astype(np.float32)\n",
    "\n",
    "print(f\"Dataset loaded: {X.shape[0]} samples, {X.shape[1]} features\")"
   ]
  },
  {
   "cell_type": "code",
   "execution_count": 153,
   "id": "f82da28d",
   "metadata": {},
   "outputs": [],
   "source": [
    "def create_autoencoder(input_dim):\n",
    "    \"\"\"\n",
    "    Create autoencoder model\n",
    "    \"\"\"\n",
    "    model = tf.keras.models.Sequential(\n",
    "        [\n",
    "            tf.keras.layers.Input((input_dim,)),\n",
    "            tf.keras.layers.Dense(32, activation=\"relu\"),\n",
    "            tf.keras.layers.Dense(16, activation=\"relu\"),\n",
    "            tf.keras.layers.Dense(8, activation=\"relu\"),  # bottleneck\n",
    "            tf.keras.layers.Dense(16, activation=\"relu\"),\n",
    "            tf.keras.layers.Dense(32, activation=\"relu\"),\n",
    "            tf.keras.layers.Dense(input_dim, activation=\"linear\"),\n",
    "        ]\n",
    "    )\n",
    "\n",
    "    model.compile(optimizer=\"adam\", loss=\"mse\")\n",
    "    return model\n",
    "\n",
    "\n",
    "def train_autoencoder_model(X, epochs=10):\n",
    "    \"\"\"\n",
    "    Train the autoencoder\n",
    "    \"\"\"\n",
    "    X_train, X_val = train_test_split(X, test_size=0.2, random_state=42)\n",
    "\n",
    "    autoencoder = create_autoencoder(X.shape[1])\n",
    "\n",
    "    callbacks = [\n",
    "        tf.keras.callbacks.EarlyStopping(\n",
    "            monitor=\"val_loss\", patience=15, restore_best_weights=True\n",
    "        )\n",
    "    ]\n",
    "\n",
    "    history = autoencoder.fit(\n",
    "        X_train,\n",
    "        X_train,\n",
    "        validation_data=(X_val, X_val),\n",
    "        epochs=epochs,\n",
    "        batch_size=32,\n",
    "        callbacks=callbacks,\n",
    "        verbose=1,\n",
    "    )\n",
    "\n",
    "    return autoencoder, X_train, history\n",
    "\n",
    "\n",
    "def calculate_threshold(autoencoder, X_train, percentile=96):\n",
    "    \"\"\"\n",
    "    Calculate reconstruction error threshold\n",
    "    \"\"\"\n",
    "    reconstructions = autoencoder.predict(X_train, verbose=0)\n",
    "    errors = np.mean(np.square(X_train - reconstructions), axis=1)\n",
    "    threshold = np.percentile(errors, percentile)\n",
    "\n",
    "    print(f\"Threshold calculated: {threshold:.6f}\")\n",
    "    return threshold, errors\n",
    "\n",
    "\n",
    "def save_autoencoder_model(autoencoder, threshold):\n",
    "    \"\"\"\n",
    "    Save autoencoder and threshold\n",
    "    \"\"\"\n",
    "    os.makedirs(\"../models\", exist_ok=True)\n",
    "\n",
    "    autoencoder.save(\"../models/autoencoder.keras\")\n",
    "\n",
    "    with open(\"../models/threshold.json\", \"w\") as f:\n",
    "        json.dump({\"threshold\": float(threshold)}, f)\n",
    "\n",
    "    print(\"Autoencoder and threshold saved!\")\n",
    "\n",
    "\n",
    "def plot_training_results(history, errors, threshold):\n",
    "    \"\"\"\n",
    "    Plot training results\n",
    "    \"\"\"\n",
    "    plt.figure(figsize=(12, 4))\n",
    "\n",
    "    plt.subplot(1, 2, 1)\n",
    "    plt.plot(history.history[\"loss\"], label=\"Training Loss\")\n",
    "    plt.plot(history.history[\"val_loss\"], label=\"Validation Loss\")\n",
    "    plt.title(\"Training History\")\n",
    "    plt.xlabel(\"Epoch\")\n",
    "    plt.ylabel(\"Loss\")\n",
    "    plt.legend()\n",
    "    plt.grid(True)\n",
    "\n",
    "    plt.subplot(1, 2, 2)\n",
    "    plt.hist(errors, bins=50, alpha=0.7)\n",
    "    plt.axvline(\n",
    "        threshold, color=\"red\", linestyle=\"--\", label=f\"Threshold: {threshold:.6f}\"\n",
    "    )\n",
    "    plt.title(\"Reconstruction Errors\")\n",
    "    plt.xlabel(\"Error\")\n",
    "    plt.ylabel(\"Frequency\")\n",
    "    plt.legend()\n",
    "    plt.grid(True)\n",
    "\n",
    "    plt.tight_layout()\n",
    "    plt.show()\n",
    "\n",
    "\n",
    "def convert_to_tflite(autoencoder):\n",
    "    \"\"\"\n",
    "    Convert autoencoder to TFLite\n",
    "    \"\"\"\n",
    "    os.makedirs(\"../models/tflite\", exist_ok=True)\n",
    "\n",
    "    converter = tf.lite.TFLiteConverter.from_keras_model(autoencoder)\n",
    "    tflite_model = converter.convert()\n",
    "\n",
    "    with open(\"../models/tflite/autoencoder.tflite\", \"wb\") as f:\n",
    "        f.write(tflite_model)\n",
    "\n",
    "    print(\"Autoencoder converted to TFLite!\")"
   ]
  },
  {
   "cell_type": "code",
   "execution_count": 154,
   "id": "caffc58f",
   "metadata": {},
   "outputs": [
    {
     "name": "stdout",
     "output_type": "stream",
     "text": [
      "Epoch 1/10\n",
      "\u001b[1m222/222\u001b[0m \u001b[32m━━━━━━━━━━━━━━━━━━━━\u001b[0m\u001b[37m\u001b[0m \u001b[1m1s\u001b[0m 969us/step - loss: 0.0062 - val_loss: 0.0010\n",
      "Epoch 2/10\n",
      "\u001b[1m222/222\u001b[0m \u001b[32m━━━━━━━━━━━━━━━━━━━━\u001b[0m\u001b[37m\u001b[0m \u001b[1m0s\u001b[0m 663us/step - loss: 8.7271e-04 - val_loss: 7.1406e-04\n",
      "Epoch 3/10\n",
      "\u001b[1m222/222\u001b[0m \u001b[32m━━━━━━━━━━━━━━━━━━━━\u001b[0m\u001b[37m\u001b[0m \u001b[1m0s\u001b[0m 641us/step - loss: 6.1372e-04 - val_loss: 5.2244e-04\n",
      "Epoch 4/10\n",
      "\u001b[1m222/222\u001b[0m \u001b[32m━━━━━━━━━━━━━━━━━━━━\u001b[0m\u001b[37m\u001b[0m \u001b[1m0s\u001b[0m 651us/step - loss: 4.6484e-04 - val_loss: 3.7812e-04\n",
      "Epoch 5/10\n",
      "\u001b[1m222/222\u001b[0m \u001b[32m━━━━━━━━━━━━━━━━━━━━\u001b[0m\u001b[37m\u001b[0m \u001b[1m0s\u001b[0m 640us/step - loss: 3.5751e-04 - val_loss: 3.3317e-04\n",
      "Epoch 6/10\n",
      "\u001b[1m222/222\u001b[0m \u001b[32m━━━━━━━━━━━━━━━━━━━━\u001b[0m\u001b[37m\u001b[0m \u001b[1m0s\u001b[0m 612us/step - loss: 3.2425e-04 - val_loss: 3.0453e-04\n",
      "Epoch 7/10\n",
      "\u001b[1m222/222\u001b[0m \u001b[32m━━━━━━━━━━━━━━━━━━━━\u001b[0m\u001b[37m\u001b[0m \u001b[1m0s\u001b[0m 645us/step - loss: 3.0131e-04 - val_loss: 2.9181e-04\n",
      "Epoch 8/10\n",
      "\u001b[1m222/222\u001b[0m \u001b[32m━━━━━━━━━━━━━━━━━━━━\u001b[0m\u001b[37m\u001b[0m \u001b[1m0s\u001b[0m 653us/step - loss: 2.8610e-04 - val_loss: 2.7116e-04\n",
      "Epoch 9/10\n",
      "\u001b[1m222/222\u001b[0m \u001b[32m━━━━━━━━━━━━━━━━━━━━\u001b[0m\u001b[37m\u001b[0m \u001b[1m0s\u001b[0m 628us/step - loss: 2.7291e-04 - val_loss: 2.5374e-04\n",
      "Epoch 10/10\n",
      "\u001b[1m222/222\u001b[0m \u001b[32m━━━━━━━━━━━━━━━━━━━━\u001b[0m\u001b[37m\u001b[0m \u001b[1m0s\u001b[0m 635us/step - loss: 2.5193e-04 - val_loss: 2.2850e-04\n"
     ]
    }
   ],
   "source": [
    "# Train autoencoder\n",
    "autoencoder, X_train, history = train_autoencoder_model(X)"
   ]
  },
  {
   "cell_type": "code",
   "execution_count": 155,
   "id": "b8214aaa",
   "metadata": {},
   "outputs": [
    {
     "name": "stdout",
     "output_type": "stream",
     "text": [
      "Threshold calculated: 0.000608\n"
     ]
    }
   ],
   "source": [
    "# Calculate threshold\n",
    "threshold, errors = calculate_threshold(autoencoder, X_train)"
   ]
  },
  {
   "cell_type": "code",
   "execution_count": 156,
   "id": "11e0863a",
   "metadata": {},
   "outputs": [
    {
     "name": "stdout",
     "output_type": "stream",
     "text": [
      "Autoencoder and threshold saved!\n"
     ]
    }
   ],
   "source": [
    "# Save models\n",
    "save_autoencoder_model(autoencoder, threshold)"
   ]
  },
  {
   "cell_type": "code",
   "execution_count": 157,
   "id": "299bd198",
   "metadata": {},
   "outputs": [
    {
     "name": "stdout",
     "output_type": "stream",
     "text": [
      "INFO:tensorflow:Assets written to: /var/folders/vm/p9d_yt5d4bv7vryrrsq_1psc0000gn/T/tmpsk7za8ob/assets\n"
     ]
    },
    {
     "name": "stderr",
     "output_type": "stream",
     "text": [
      "INFO:tensorflow:Assets written to: /var/folders/vm/p9d_yt5d4bv7vryrrsq_1psc0000gn/T/tmpsk7za8ob/assets\n"
     ]
    },
    {
     "name": "stdout",
     "output_type": "stream",
     "text": [
      "Saved artifact at '/var/folders/vm/p9d_yt5d4bv7vryrrsq_1psc0000gn/T/tmpsk7za8ob'. The following endpoints are available:\n",
      "\n",
      "* Endpoint 'serve'\n",
      "  args_0 (POSITIONAL_ONLY): TensorSpec(shape=(None, 42), dtype=tf.float32, name='keras_tensor_104')\n",
      "Output Type:\n",
      "  TensorSpec(shape=(None, 42), dtype=tf.float32, name=None)\n",
      "Captures:\n",
      "  5796348176: TensorSpec(shape=(), dtype=tf.resource, name=None)\n",
      "  5796362192: TensorSpec(shape=(), dtype=tf.resource, name=None)\n",
      "  5837134480: TensorSpec(shape=(), dtype=tf.resource, name=None)\n",
      "  5837143504: TensorSpec(shape=(), dtype=tf.resource, name=None)\n",
      "  5837143696: TensorSpec(shape=(), dtype=tf.resource, name=None)\n",
      "  5837133520: TensorSpec(shape=(), dtype=tf.resource, name=None)\n",
      "  5837132368: TensorSpec(shape=(), dtype=tf.resource, name=None)\n",
      "  5837136208: TensorSpec(shape=(), dtype=tf.resource, name=None)\n",
      "  5837138896: TensorSpec(shape=(), dtype=tf.resource, name=None)\n",
      "  5837131792: TensorSpec(shape=(), dtype=tf.resource, name=None)\n",
      "  5837138512: TensorSpec(shape=(), dtype=tf.resource, name=None)\n",
      "  5837138704: TensorSpec(shape=(), dtype=tf.resource, name=None)\n",
      "Autoencoder converted to TFLite!\n"
     ]
    },
    {
     "name": "stderr",
     "output_type": "stream",
     "text": [
      "W0000 00:00:1758394143.627673 1200475 tf_tfl_flatbuffer_helpers.cc:365] Ignored output_format.\n",
      "W0000 00:00:1758394143.627688 1200475 tf_tfl_flatbuffer_helpers.cc:368] Ignored drop_control_dependency.\n"
     ]
    }
   ],
   "source": [
    "convert_to_tflite(autoencoder)"
   ]
  },
  {
   "cell_type": "code",
   "execution_count": 158,
   "id": "f632378e",
   "metadata": {},
   "outputs": [
    {
     "data": {
      "image/png": "[encoded data removed]",
      "text/plain": [
       "<Figure size 1200x400 with 2 Axes>"
      ]
     },
     "metadata": {},
     "output_type": "display_data"
    }
   ],
   "source": [
    "# Plot results\n",
    "plot_training_results(history, errors, threshold)"
   ]
  },
  {
   "cell_type": "code",
   "execution_count": null,
   "id": "ca0eae08",
   "metadata": {},
   "outputs": [],
   "source": []
  }
 ],
 "metadata": {
  "kernelspec": {
   "display_name": ".venv",
   "language": "python",
   "name": "python3"
  },
  "language_info": {
   "codemirror_mode": {
    "name": "ipython",
    "version": 3
   },
   "file_extension": ".py",
   "mimetype": "text/x-python",
   "name": "python",
   "nbconvert_exporter": "python",
   "pygments_lexer": "ipython3",
   "version": "3.12.9"
  }
 },
 "nbformat": 4,
 "nbformat_minor": 5
}
