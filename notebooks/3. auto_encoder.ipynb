{
 "cells": [
  {
   "cell_type": "code",
   "execution_count": 1,
   "id": "5c774f73",
   "metadata": {},
   "outputs": [],
   "source": [
    "import tensorflow as tf\n",
    "import numpy as np\n",
    "import pandas as pd\n",
    "from sklearn.model_selection import train_test_split\n",
    "from sklearn.model_selection import KFold\n",
    "import matplotlib.pyplot as plt\n",
    "import json\n",
    "import os"
   ]
  },
  {
   "cell_type": "markdown",
   "id": "42830979",
   "metadata": {},
   "source": [
    "## Loading Data"
   ]
  },
  {
   "cell_type": "code",
   "execution_count": 2,
   "id": "e03fa7ba",
   "metadata": {},
   "outputs": [
    {
     "name": "stdout",
     "output_type": "stream",
     "text": [
      "Dataset loaded: 908 samples, 42 features\n"
     ]
    }
   ],
   "source": [
    "# Load dataset for autoencoder training\n",
    "\n",
    "df = pd.read_csv(\"../data/hand_landmarks_dataset_normalized_to_the_wrist.csv\")\n",
    "feature_columns = [col for col in df.columns if col.startswith((\"x\", \"y\"))]\n",
    "X = df[feature_columns].values.astype(np.float32)\n",
    "\n",
    "print(f\"Dataset loaded: {X.shape[0]} samples, {X.shape[1]} features\")"
   ]
  },
  {
   "cell_type": "markdown",
   "id": "f2312e47",
   "metadata": {},
   "source": [
    "## Defining Essential functions"
   ]
  },
  {
   "cell_type": "code",
   "execution_count": 4,
   "id": "f82da28d",
   "metadata": {},
   "outputs": [],
   "source": [
    "def create_autoencoder(input_dim):\n",
    "    \"\"\"\n",
    "    Improved autoencoder with normalization, dropout, and better initialization.\n",
    "    \"\"\"\n",
    "    model = tf.keras.models.Sequential(\n",
    "        [\n",
    "            # Input with noise for robustness\n",
    "            tf.keras.layers.Input((input_dim,), name=\"input_layer\"),\n",
    "            tf.keras.layers.GaussianNoise(0.05, name=\"input_noise\"),\n",
    "            # Encoder\n",
    "            tf.keras.layers.Dense(\n",
    "                64, kernel_initializer=\"he_normal\", name=\"encoder_dense1\"\n",
    "            ),\n",
    "            tf.keras.layers.BatchNormalization(name=\"encoder_bn1\"),\n",
    "            tf.keras.layers.LeakyReLU(negative_slope=0.1, name=\"encoder_act1\"),\n",
    "            tf.keras.layers.Dense(\n",
    "                32, kernel_initializer=\"he_normal\", name=\"encoder_dense2\"\n",
    "            ),\n",
    "            tf.keras.layers.BatchNormalization(name=\"encoder_bn2\"),\n",
    "            tf.keras.layers.LeakyReLU(negative_slope=0.1, name=\"encoder_act2\"),\n",
    "            # Bottleneck\n",
    "            tf.keras.layers.Dense(\n",
    "                8,\n",
    "                activation=None,\n",
    "                kernel_initializer=\"he_normal\",\n",
    "                activity_regularizer=tf.keras.regularizers.L1(1e-5),\n",
    "                name=\"bottleneck\",\n",
    "            ),\n",
    "            # Decoder\n",
    "            tf.keras.layers.Dense(\n",
    "                32, kernel_initializer=\"he_normal\", name=\"decoder_dense1\"\n",
    "            ),\n",
    "            tf.keras.layers.BatchNormalization(name=\"decoder_bn1\"),\n",
    "            tf.keras.layers.LeakyReLU(negative_slope=0.1, name=\"decoder_act1\"),\n",
    "            tf.keras.layers.Dense(\n",
    "                64, kernel_initializer=\"he_normal\", name=\"decoder_dense2\"\n",
    "            ),\n",
    "            tf.keras.layers.BatchNormalization(name=\"decoder_bn2\"),\n",
    "            tf.keras.layers.LeakyReLU(negative_slope=0.1, name=\"decoder_act2\"),\n",
    "            # Output\n",
    "            tf.keras.layers.Dense(input_dim, activation=\"linear\", name=\"output_layer\"),\n",
    "        ]\n",
    "    )\n",
    "\n",
    "    # Use AdamW + Huber loss for stability\n",
    "    model.compile(\n",
    "        optimizer=tf.keras.optimizers.AdamW(learning_rate=1e-3, weight_decay=1e-5),\n",
    "        loss=tf.keras.losses.Huber(),\n",
    "    )\n",
    "\n",
    "    return model\n",
    "\n",
    "\n",
    "def train_autoencoder_model(X, epochs=20):\n",
    "    \"\"\"\n",
    "    Train the autoencoder\n",
    "    \"\"\"\n",
    "    X_train, X_val = train_test_split(X, test_size=0.2, random_state=42)\n",
    "\n",
    "    autoencoder = create_autoencoder(X.shape[1])\n",
    "\n",
    "    callbacks = [\n",
    "        tf.keras.callbacks.EarlyStopping(\n",
    "            monitor=\"val_loss\", patience=15, restore_best_weights=True\n",
    "        )\n",
    "    ]\n",
    "\n",
    "    history = autoencoder.fit(\n",
    "        X_train,\n",
    "        X_train,\n",
    "        validation_data=(X_val, X_val),\n",
    "        epochs=epochs,\n",
    "        batch_size=32,\n",
    "        callbacks=callbacks,\n",
    "        verbose=1,\n",
    "    )\n",
    "\n",
    "    return autoencoder, X_train, history\n",
    "\n",
    "\n",
    "def calculate_threshold(autoencoder, X_train, percentile=95):\n",
    "    \"\"\"\n",
    "    Calculate reconstruction error threshold\n",
    "    \"\"\"\n",
    "    reconstructions = autoencoder.predict(X_train, verbose=0)\n",
    "    errors = np.mean(np.square(X_train - reconstructions), axis=1)\n",
    "    threshold = np.percentile(errors, percentile)\n",
    "\n",
    "    print(f\"Threshold calculated: {threshold:.6f}\")\n",
    "    return threshold, errors\n",
    "\n",
    "\n",
    "def save_autoencoder_model(autoencoder, threshold):\n",
    "    \"\"\"\n",
    "    Save autoencoder and threshold\n",
    "    \"\"\"\n",
    "    os.makedirs(\"../models\", exist_ok=True)\n",
    "\n",
    "    autoencoder.save(\"../models/autoencoder.keras\")\n",
    "\n",
    "    with open(\"../models/threshold.json\", \"w\") as f:\n",
    "        json.dump({\"threshold\": float(threshold)}, f)\n",
    "\n",
    "    print(\"Autoencoder and threshold saved!\")\n",
    "\n",
    "\n",
    "def plot_kfold_results(fold_histories, best_model, best_threshold):\n",
    "    \"\"\"\n",
    "    Plot k-fold training results\n",
    "    \"\"\"\n",
    "    os.makedirs(\"../models/autoencoder_plots\", exist_ok=True)\n",
    "\n",
    "    # Plot all fold histories\n",
    "    plt.figure(figsize=(10, 6))\n",
    "    for i, history in enumerate(fold_histories):\n",
    "        plt.plot(history.history[\"loss\"], alpha=0.7, label=f\"Fold {i+1} Train\")\n",
    "        plt.plot(\n",
    "            history.history[\"val_loss\"],\n",
    "            alpha=0.7,\n",
    "            linestyle=\"--\",\n",
    "            label=f\"Fold {i+1} Val\",\n",
    "        )\n",
    "    plt.title(\"K-Fold Training History\")\n",
    "    plt.xlabel(\"Epoch\")\n",
    "    plt.ylabel(\"Loss\")\n",
    "    plt.legend()\n",
    "    plt.grid(True)\n",
    "    plt.savefig(\n",
    "        \"../models/autoencoder_plots/kfold_training_history.png\",\n",
    "        dpi=300,\n",
    "        bbox_inches=\"tight\",\n",
    "    )\n",
    "    plt.show()\n",
    "\n",
    "    # Plot reconstruction errors for best model\n",
    "    plt.figure(figsize=(8, 6))\n",
    "    reconstructions = best_model.predict(X_temp, verbose=0)\n",
    "    errors = np.mean(np.square(X_temp - reconstructions), axis=1)\n",
    "    plt.hist(errors, bins=50, alpha=0.7)\n",
    "    plt.axvline(\n",
    "        best_threshold,\n",
    "        color=\"red\",\n",
    "        linestyle=\"--\",\n",
    "        label=f\"Threshold: {best_threshold:.6f}\",\n",
    "    )\n",
    "    plt.title(\"Reconstruction Errors (Best Model)\")\n",
    "    plt.xlabel(\"Error\")\n",
    "    plt.ylabel(\"Frequency\")\n",
    "    plt.legend()\n",
    "    plt.grid(True)\n",
    "    plt.savefig(\n",
    "        \"../models/autoencoder_plots/reconstruction_errors.png\",\n",
    "        dpi=300,\n",
    "        bbox_inches=\"tight\",\n",
    "    )\n",
    "    plt.show()\n",
    "\n",
    "\n",
    "def convert_to_tflite(autoencoder):\n",
    "    \"\"\"\n",
    "    Convert autoencoder to TFLite\n",
    "    \"\"\"\n",
    "    os.makedirs(\"../models/tflite\", exist_ok=True)\n",
    "\n",
    "    converter = tf.lite.TFLiteConverter.from_keras_model(autoencoder)\n",
    "    tflite_model = converter.convert()\n",
    "\n",
    "    with open(\"../models/tflite/autoencoder.tflite\", \"wb\") as f:\n",
    "        f.write(tflite_model)\n",
    "\n",
    "    print(\"Autoencoder converted to TFLite!\")"
   ]
  },
  {
   "cell_type": "markdown",
   "id": "757e5432",
   "metadata": {},
   "source": [
    "## Model Summery"
   ]
  },
  {
   "cell_type": "code",
   "execution_count": 5,
   "id": "a198a456",
   "metadata": {},
   "outputs": [
    {
     "data": {
      "text/html": [
       "<pre style=\"white-space:pre;overflow-x:auto;line-height:normal;font-family:Menlo,'DejaVu Sans Mono',consolas,'Courier New',monospace\"><span style=\"font-weight: bold\">Model: \"sequential\"</span>\n",
       "</pre>\n"
      ],
      "text/plain": [
       "\u001b[1mModel: \"sequential\"\u001b[0m\n"
      ]
     },
     "metadata": {},
     "output_type": "display_data"
    },
    {
     "data": {
      "text/html": [
       "<pre style=\"white-space:pre;overflow-x:auto;line-height:normal;font-family:Menlo,'DejaVu Sans Mono',consolas,'Courier New',monospace\">┏━━━━━━━━━━━━━━━━━━━━━━━━━━━━━━━━━┳━━━━━━━━━━━━━━━━━━━━━━━━┳━━━━━━━━━━━━━━━┓\n",
       "┃<span style=\"font-weight: bold\"> Layer (type)                    </span>┃<span style=\"font-weight: bold\"> Output Shape           </span>┃<span style=\"font-weight: bold\">       Param # </span>┃\n",
       "┡━━━━━━━━━━━━━━━━━━━━━━━━━━━━━━━━━╇━━━━━━━━━━━━━━━━━━━━━━━━╇━━━━━━━━━━━━━━━┩\n",
       "│ input_noise (<span style=\"color: #0087ff; text-decoration-color: #0087ff\">GaussianNoise</span>)     │ (<span style=\"color: #00d7ff; text-decoration-color: #00d7ff\">None</span>, <span style=\"color: #00af00; text-decoration-color: #00af00\">42</span>)             │             <span style=\"color: #00af00; text-decoration-color: #00af00\">0</span> │\n",
       "├─────────────────────────────────┼────────────────────────┼───────────────┤\n",
       "│ encoder_dense1 (<span style=\"color: #0087ff; text-decoration-color: #0087ff\">Dense</span>)          │ (<span style=\"color: #00d7ff; text-decoration-color: #00d7ff\">None</span>, <span style=\"color: #00af00; text-decoration-color: #00af00\">64</span>)             │         <span style=\"color: #00af00; text-decoration-color: #00af00\">2,752</span> │\n",
       "├─────────────────────────────────┼────────────────────────┼───────────────┤\n",
       "│ encoder_bn1                     │ (<span style=\"color: #00d7ff; text-decoration-color: #00d7ff\">None</span>, <span style=\"color: #00af00; text-decoration-color: #00af00\">64</span>)             │           <span style=\"color: #00af00; text-decoration-color: #00af00\">256</span> │\n",
       "│ (<span style=\"color: #0087ff; text-decoration-color: #0087ff\">BatchNormalization</span>)            │                        │               │\n",
       "├─────────────────────────────────┼────────────────────────┼───────────────┤\n",
       "│ encoder_act1 (<span style=\"color: #0087ff; text-decoration-color: #0087ff\">LeakyReLU</span>)        │ (<span style=\"color: #00d7ff; text-decoration-color: #00d7ff\">None</span>, <span style=\"color: #00af00; text-decoration-color: #00af00\">64</span>)             │             <span style=\"color: #00af00; text-decoration-color: #00af00\">0</span> │\n",
       "├─────────────────────────────────┼────────────────────────┼───────────────┤\n",
       "│ encoder_dense2 (<span style=\"color: #0087ff; text-decoration-color: #0087ff\">Dense</span>)          │ (<span style=\"color: #00d7ff; text-decoration-color: #00d7ff\">None</span>, <span style=\"color: #00af00; text-decoration-color: #00af00\">32</span>)             │         <span style=\"color: #00af00; text-decoration-color: #00af00\">2,080</span> │\n",
       "├─────────────────────────────────┼────────────────────────┼───────────────┤\n",
       "│ encoder_bn2                     │ (<span style=\"color: #00d7ff; text-decoration-color: #00d7ff\">None</span>, <span style=\"color: #00af00; text-decoration-color: #00af00\">32</span>)             │           <span style=\"color: #00af00; text-decoration-color: #00af00\">128</span> │\n",
       "│ (<span style=\"color: #0087ff; text-decoration-color: #0087ff\">BatchNormalization</span>)            │                        │               │\n",
       "├─────────────────────────────────┼────────────────────────┼───────────────┤\n",
       "│ encoder_act2 (<span style=\"color: #0087ff; text-decoration-color: #0087ff\">LeakyReLU</span>)        │ (<span style=\"color: #00d7ff; text-decoration-color: #00d7ff\">None</span>, <span style=\"color: #00af00; text-decoration-color: #00af00\">32</span>)             │             <span style=\"color: #00af00; text-decoration-color: #00af00\">0</span> │\n",
       "├─────────────────────────────────┼────────────────────────┼───────────────┤\n",
       "│ bottleneck (<span style=\"color: #0087ff; text-decoration-color: #0087ff\">Dense</span>)              │ (<span style=\"color: #00d7ff; text-decoration-color: #00d7ff\">None</span>, <span style=\"color: #00af00; text-decoration-color: #00af00\">8</span>)              │           <span style=\"color: #00af00; text-decoration-color: #00af00\">264</span> │\n",
       "├─────────────────────────────────┼────────────────────────┼───────────────┤\n",
       "│ decoder_dense1 (<span style=\"color: #0087ff; text-decoration-color: #0087ff\">Dense</span>)          │ (<span style=\"color: #00d7ff; text-decoration-color: #00d7ff\">None</span>, <span style=\"color: #00af00; text-decoration-color: #00af00\">32</span>)             │           <span style=\"color: #00af00; text-decoration-color: #00af00\">288</span> │\n",
       "├─────────────────────────────────┼────────────────────────┼───────────────┤\n",
       "│ decoder_bn1                     │ (<span style=\"color: #00d7ff; text-decoration-color: #00d7ff\">None</span>, <span style=\"color: #00af00; text-decoration-color: #00af00\">32</span>)             │           <span style=\"color: #00af00; text-decoration-color: #00af00\">128</span> │\n",
       "│ (<span style=\"color: #0087ff; text-decoration-color: #0087ff\">BatchNormalization</span>)            │                        │               │\n",
       "├─────────────────────────────────┼────────────────────────┼───────────────┤\n",
       "│ decoder_act1 (<span style=\"color: #0087ff; text-decoration-color: #0087ff\">LeakyReLU</span>)        │ (<span style=\"color: #00d7ff; text-decoration-color: #00d7ff\">None</span>, <span style=\"color: #00af00; text-decoration-color: #00af00\">32</span>)             │             <span style=\"color: #00af00; text-decoration-color: #00af00\">0</span> │\n",
       "├─────────────────────────────────┼────────────────────────┼───────────────┤\n",
       "│ decoder_dense2 (<span style=\"color: #0087ff; text-decoration-color: #0087ff\">Dense</span>)          │ (<span style=\"color: #00d7ff; text-decoration-color: #00d7ff\">None</span>, <span style=\"color: #00af00; text-decoration-color: #00af00\">64</span>)             │         <span style=\"color: #00af00; text-decoration-color: #00af00\">2,112</span> │\n",
       "├─────────────────────────────────┼────────────────────────┼───────────────┤\n",
       "│ decoder_bn2                     │ (<span style=\"color: #00d7ff; text-decoration-color: #00d7ff\">None</span>, <span style=\"color: #00af00; text-decoration-color: #00af00\">64</span>)             │           <span style=\"color: #00af00; text-decoration-color: #00af00\">256</span> │\n",
       "│ (<span style=\"color: #0087ff; text-decoration-color: #0087ff\">BatchNormalization</span>)            │                        │               │\n",
       "├─────────────────────────────────┼────────────────────────┼───────────────┤\n",
       "│ decoder_act2 (<span style=\"color: #0087ff; text-decoration-color: #0087ff\">LeakyReLU</span>)        │ (<span style=\"color: #00d7ff; text-decoration-color: #00d7ff\">None</span>, <span style=\"color: #00af00; text-decoration-color: #00af00\">64</span>)             │             <span style=\"color: #00af00; text-decoration-color: #00af00\">0</span> │\n",
       "├─────────────────────────────────┼────────────────────────┼───────────────┤\n",
       "│ output_layer (<span style=\"color: #0087ff; text-decoration-color: #0087ff\">Dense</span>)            │ (<span style=\"color: #00d7ff; text-decoration-color: #00d7ff\">None</span>, <span style=\"color: #00af00; text-decoration-color: #00af00\">42</span>)             │         <span style=\"color: #00af00; text-decoration-color: #00af00\">2,730</span> │\n",
       "└─────────────────────────────────┴────────────────────────┴───────────────┘\n",
       "</pre>\n"
      ],
      "text/plain": [
       "┏━━━━━━━━━━━━━━━━━━━━━━━━━━━━━━━━━┳━━━━━━━━━━━━━━━━━━━━━━━━┳━━━━━━━━━━━━━━━┓\n",
       "┃\u001b[1m \u001b[0m\u001b[1mLayer (type)                   \u001b[0m\u001b[1m \u001b[0m┃\u001b[1m \u001b[0m\u001b[1mOutput Shape          \u001b[0m\u001b[1m \u001b[0m┃\u001b[1m \u001b[0m\u001b[1m      Param #\u001b[0m\u001b[1m \u001b[0m┃\n",
       "┡━━━━━━━━━━━━━━━━━━━━━━━━━━━━━━━━━╇━━━━━━━━━━━━━━━━━━━━━━━━╇━━━━━━━━━━━━━━━┩\n",
       "│ input_noise (\u001b[38;5;33mGaussianNoise\u001b[0m)     │ (\u001b[38;5;45mNone\u001b[0m, \u001b[38;5;34m42\u001b[0m)             │             \u001b[38;5;34m0\u001b[0m │\n",
       "├─────────────────────────────────┼────────────────────────┼───────────────┤\n",
       "│ encoder_dense1 (\u001b[38;5;33mDense\u001b[0m)          │ (\u001b[38;5;45mNone\u001b[0m, \u001b[38;5;34m64\u001b[0m)             │         \u001b[38;5;34m2,752\u001b[0m │\n",
       "├─────────────────────────────────┼────────────────────────┼───────────────┤\n",
       "│ encoder_bn1                     │ (\u001b[38;5;45mNone\u001b[0m, \u001b[38;5;34m64\u001b[0m)             │           \u001b[38;5;34m256\u001b[0m │\n",
       "│ (\u001b[38;5;33mBatchNormalization\u001b[0m)            │                        │               │\n",
       "├─────────────────────────────────┼────────────────────────┼───────────────┤\n",
       "│ encoder_act1 (\u001b[38;5;33mLeakyReLU\u001b[0m)        │ (\u001b[38;5;45mNone\u001b[0m, \u001b[38;5;34m64\u001b[0m)             │             \u001b[38;5;34m0\u001b[0m │\n",
       "├─────────────────────────────────┼────────────────────────┼───────────────┤\n",
       "│ encoder_dense2 (\u001b[38;5;33mDense\u001b[0m)          │ (\u001b[38;5;45mNone\u001b[0m, \u001b[38;5;34m32\u001b[0m)             │         \u001b[38;5;34m2,080\u001b[0m │\n",
       "├─────────────────────────────────┼────────────────────────┼───────────────┤\n",
       "│ encoder_bn2                     │ (\u001b[38;5;45mNone\u001b[0m, \u001b[38;5;34m32\u001b[0m)             │           \u001b[38;5;34m128\u001b[0m │\n",
       "│ (\u001b[38;5;33mBatchNormalization\u001b[0m)            │                        │               │\n",
       "├─────────────────────────────────┼────────────────────────┼───────────────┤\n",
       "│ encoder_act2 (\u001b[38;5;33mLeakyReLU\u001b[0m)        │ (\u001b[38;5;45mNone\u001b[0m, \u001b[38;5;34m32\u001b[0m)             │             \u001b[38;5;34m0\u001b[0m │\n",
       "├─────────────────────────────────┼────────────────────────┼───────────────┤\n",
       "│ bottleneck (\u001b[38;5;33mDense\u001b[0m)              │ (\u001b[38;5;45mNone\u001b[0m, \u001b[38;5;34m8\u001b[0m)              │           \u001b[38;5;34m264\u001b[0m │\n",
       "├─────────────────────────────────┼────────────────────────┼───────────────┤\n",
       "│ decoder_dense1 (\u001b[38;5;33mDense\u001b[0m)          │ (\u001b[38;5;45mNone\u001b[0m, \u001b[38;5;34m32\u001b[0m)             │           \u001b[38;5;34m288\u001b[0m │\n",
       "├─────────────────────────────────┼────────────────────────┼───────────────┤\n",
       "│ decoder_bn1                     │ (\u001b[38;5;45mNone\u001b[0m, \u001b[38;5;34m32\u001b[0m)             │           \u001b[38;5;34m128\u001b[0m │\n",
       "│ (\u001b[38;5;33mBatchNormalization\u001b[0m)            │                        │               │\n",
       "├─────────────────────────────────┼────────────────────────┼───────────────┤\n",
       "│ decoder_act1 (\u001b[38;5;33mLeakyReLU\u001b[0m)        │ (\u001b[38;5;45mNone\u001b[0m, \u001b[38;5;34m32\u001b[0m)             │             \u001b[38;5;34m0\u001b[0m │\n",
       "├─────────────────────────────────┼────────────────────────┼───────────────┤\n",
       "│ decoder_dense2 (\u001b[38;5;33mDense\u001b[0m)          │ (\u001b[38;5;45mNone\u001b[0m, \u001b[38;5;34m64\u001b[0m)             │         \u001b[38;5;34m2,112\u001b[0m │\n",
       "├─────────────────────────────────┼────────────────────────┼───────────────┤\n",
       "│ decoder_bn2                     │ (\u001b[38;5;45mNone\u001b[0m, \u001b[38;5;34m64\u001b[0m)             │           \u001b[38;5;34m256\u001b[0m │\n",
       "│ (\u001b[38;5;33mBatchNormalization\u001b[0m)            │                        │               │\n",
       "├─────────────────────────────────┼────────────────────────┼───────────────┤\n",
       "│ decoder_act2 (\u001b[38;5;33mLeakyReLU\u001b[0m)        │ (\u001b[38;5;45mNone\u001b[0m, \u001b[38;5;34m64\u001b[0m)             │             \u001b[38;5;34m0\u001b[0m │\n",
       "├─────────────────────────────────┼────────────────────────┼───────────────┤\n",
       "│ output_layer (\u001b[38;5;33mDense\u001b[0m)            │ (\u001b[38;5;45mNone\u001b[0m, \u001b[38;5;34m42\u001b[0m)             │         \u001b[38;5;34m2,730\u001b[0m │\n",
       "└─────────────────────────────────┴────────────────────────┴───────────────┘\n"
      ]
     },
     "metadata": {},
     "output_type": "display_data"
    },
    {
     "data": {
      "text/html": [
       "<pre style=\"white-space:pre;overflow-x:auto;line-height:normal;font-family:Menlo,'DejaVu Sans Mono',consolas,'Courier New',monospace\"><span style=\"font-weight: bold\"> Total params: </span><span style=\"color: #00af00; text-decoration-color: #00af00\">10,994</span> (42.95 KB)\n",
       "</pre>\n"
      ],
      "text/plain": [
       "\u001b[1m Total params: \u001b[0m\u001b[38;5;34m10,994\u001b[0m (42.95 KB)\n"
      ]
     },
     "metadata": {},
     "output_type": "display_data"
    },
    {
     "data": {
      "text/html": [
       "<pre style=\"white-space:pre;overflow-x:auto;line-height:normal;font-family:Menlo,'DejaVu Sans Mono',consolas,'Courier New',monospace\"><span style=\"font-weight: bold\"> Trainable params: </span><span style=\"color: #00af00; text-decoration-color: #00af00\">10,610</span> (41.45 KB)\n",
       "</pre>\n"
      ],
      "text/plain": [
       "\u001b[1m Trainable params: \u001b[0m\u001b[38;5;34m10,610\u001b[0m (41.45 KB)\n"
      ]
     },
     "metadata": {},
     "output_type": "display_data"
    },
    {
     "data": {
      "text/html": [
       "<pre style=\"white-space:pre;overflow-x:auto;line-height:normal;font-family:Menlo,'DejaVu Sans Mono',consolas,'Courier New',monospace\"><span style=\"font-weight: bold\"> Non-trainable params: </span><span style=\"color: #00af00; text-decoration-color: #00af00\">384</span> (1.50 KB)\n",
       "</pre>\n"
      ],
      "text/plain": [
       "\u001b[1m Non-trainable params: \u001b[0m\u001b[38;5;34m384\u001b[0m (1.50 KB)\n"
      ]
     },
     "metadata": {},
     "output_type": "display_data"
    }
   ],
   "source": [
    "# This model creation is only for seeing the model summery before training\n",
    "model = create_autoencoder(input_dim=X.shape[1])\n",
    "model.summary()"
   ]
  },
  {
   "cell_type": "markdown",
   "id": "2ba26ce5",
   "metadata": {},
   "source": [
    "## K-fold Cross Validation Training"
   ]
  },
  {
   "cell_type": "code",
   "execution_count": 6,
   "id": "e17a6eb1",
   "metadata": {},
   "outputs": [
    {
     "name": "stdout",
     "output_type": "stream",
     "text": [
      "Splitting data into train/validation (80%) and test (20%) sets...\n",
      "Training/Validation data: (726, 42)\n",
      "Test data: (182, 42)\n",
      "\n",
      "Starting 5-fold cross validation...\n",
      "\n",
      "==================================================\n",
      "Training Fold 1/5\n",
      "==================================================\n",
      "Train samples: 580\n",
      "Validation samples: 146\n",
      "Creating and training autoencoder...\n",
      "Threshold calculated: 0.021357\n",
      "Fold 1 Validation Loss: 0.006900\n",
      "Fold 1 Threshold: 0.021357\n",
      "\n",
      "==================================================\n",
      "Training Fold 2/5\n",
      "==================================================\n",
      "Train samples: 581\n",
      "Validation samples: 145\n",
      "Creating and training autoencoder...\n",
      "Threshold calculated: 0.015465\n",
      "Fold 2 Validation Loss: 0.006152\n",
      "Fold 2 Threshold: 0.015465\n",
      "\n",
      "==================================================\n",
      "Training Fold 3/5\n",
      "==================================================\n",
      "Train samples: 581\n",
      "Validation samples: 145\n",
      "Creating and training autoencoder...\n",
      "Threshold calculated: 0.019287\n",
      "Fold 3 Validation Loss: 0.006475\n",
      "Fold 3 Threshold: 0.019287\n",
      "\n",
      "==================================================\n",
      "Training Fold 4/5\n",
      "==================================================\n",
      "Train samples: 581\n",
      "Validation samples: 145\n",
      "Creating and training autoencoder...\n",
      "Threshold calculated: 0.018447\n",
      "Fold 4 Validation Loss: 0.006373\n",
      "Fold 4 Threshold: 0.018447\n",
      "\n",
      "==================================================\n",
      "Training Fold 5/5\n",
      "==================================================\n",
      "Train samples: 581\n",
      "Validation samples: 145\n",
      "Creating and training autoencoder...\n",
      "Threshold calculated: 0.017296\n",
      "Fold 5 Validation Loss: 0.006170\n",
      "Fold 5 Threshold: 0.017296\n",
      "\n",
      "============================================================\n",
      "CROSS-VALIDATION RESULTS\n",
      "============================================================\n",
      "Individual fold losses: ['0.006900', '0.006152', '0.006475', '0.006373', '0.006170']\n",
      "Mean CV Loss: 0.006414\n",
      "Standard Deviation: 0.000272\n",
      "95% Confidence Interval: 0.006414 (+/- 0.000544)\n"
     ]
    }
   ],
   "source": [
    "# Keep test set separate (20% for final evaluation)\n",
    "print(\"Splitting data into train/validation (80%) and test (20%) sets...\")\n",
    "X_temp, X_test = train_test_split(X, test_size=0.2, random_state=42)\n",
    "\n",
    "print(f\"Training/Validation data: {X_temp.shape}\")\n",
    "print(f\"Test data: {X_test.shape}\")\n",
    "\n",
    "# K-fold cross validation setup\n",
    "print(\"\\nStarting 5-fold cross validation...\")\n",
    "kfold = KFold(n_splits=5, shuffle=True, random_state=42)\n",
    "cv_scores = []\n",
    "fold_models = []\n",
    "fold_histories = []\n",
    "fold_thresholds = []\n",
    "\n",
    "for fold, (train_idx, val_idx) in enumerate(kfold.split(X_temp)):\n",
    "    print(f\"\\n{'='*50}\")\n",
    "    print(f\"Training Fold {fold + 1}/5\")\n",
    "    print(f\"{'='*50}\")\n",
    "\n",
    "    # Split data for this fold\n",
    "    X_train, X_val = X_temp[train_idx], X_temp[val_idx]\n",
    "\n",
    "    print(f\"Train samples: {X_train.shape[0]}\")\n",
    "    print(f\"Validation samples: {X_val.shape[0]}\")\n",
    "\n",
    "    # Create and train autoencoder\n",
    "    print(\"Creating and training autoencoder...\")\n",
    "    autoencoder = create_autoencoder(X.shape[1])\n",
    "\n",
    "    callbacks = [\n",
    "        tf.keras.callbacks.EarlyStopping(\n",
    "            monitor=\"val_loss\", patience=15, restore_best_weights=True\n",
    "        )\n",
    "    ]\n",
    "\n",
    "    history = autoencoder.fit(\n",
    "        X_train,\n",
    "        X_train,\n",
    "        validation_data=(X_val, X_val),\n",
    "        epochs=20,\n",
    "        batch_size=32,\n",
    "        callbacks=callbacks,\n",
    "        verbose=0,\n",
    "    )\n",
    "\n",
    "    fold_histories.append(history)\n",
    "\n",
    "    # Calculate threshold and evaluate\n",
    "    threshold, _ = calculate_threshold(autoencoder, X_train)\n",
    "    fold_thresholds.append(threshold)\n",
    "\n",
    "    # Evaluate model (validation loss)\n",
    "    val_loss = min(history.history[\"val_loss\"])\n",
    "    cv_scores.append(val_loss)\n",
    "    fold_models.append(autoencoder)\n",
    "\n",
    "    print(f\"Fold {fold + 1} Validation Loss: {val_loss:.6f}\")\n",
    "    print(f\"Fold {fold + 1} Threshold: {threshold:.6f}\")\n",
    "\n",
    "# Print cross-validation results\n",
    "print(f\"\\n{'='*60}\")\n",
    "print(\"CROSS-VALIDATION RESULTS\")\n",
    "print(f\"{'='*60}\")\n",
    "print(f\"Individual fold losses: {[f'{loss:.6f}' for loss in cv_scores]}\")\n",
    "print(f\"Mean CV Loss: {np.mean(cv_scores):.6f}\")\n",
    "print(f\"Standard Deviation: {np.std(cv_scores):.6f}\")\n",
    "print(\n",
    "    f\"95% Confidence Interval: {np.mean(cv_scores):.6f} (+/- {np.std(cv_scores) * 2:.6f})\"\n",
    ")"
   ]
  },
  {
   "cell_type": "markdown",
   "id": "5c86ce44",
   "metadata": {},
   "source": [
    "## Results"
   ]
  },
  {
   "cell_type": "code",
   "execution_count": 7,
   "id": "91f6845b",
   "metadata": {},
   "outputs": [
    {
     "name": "stdout",
     "output_type": "stream",
     "text": [
      "\n",
      "Best performing fold: 2 (Loss: 0.006152)\n",
      "\n",
      "Evaluating best model on test set...\n",
      "Final Test Loss: 0.006032\n"
     ]
    }
   ],
   "source": [
    "# Select best model and evaluate on test set\n",
    "best_fold = np.argmin(cv_scores)  # Lower loss is better for autoencoder\n",
    "best_model = fold_models[best_fold]\n",
    "best_threshold = fold_thresholds[best_fold]\n",
    "print(f\"\\nBest performing fold: {best_fold + 1} (Loss: {cv_scores[best_fold]:.6f})\")\n",
    "\n",
    "print(\"\\nEvaluating best model on test set...\")\n",
    "test_loss = best_model.evaluate(X_test, X_test, verbose=0)\n",
    "print(f\"Final Test Loss: {test_loss:.6f}\")"
   ]
  },
  {
   "cell_type": "markdown",
   "id": "836a342e",
   "metadata": {},
   "source": [
    "## Saving the Best Model"
   ]
  },
  {
   "cell_type": "code",
   "execution_count": 8,
   "id": "a04c1ee2",
   "metadata": {},
   "outputs": [
    {
     "name": "stdout",
     "output_type": "stream",
     "text": [
      "Autoencoder and threshold saved!\n",
      "INFO:tensorflow:Assets written to: /var/folders/vm/p9d_yt5d4bv7vryrrsq_1psc0000gn/T/tmpaxva01gq/assets\n"
     ]
    },
    {
     "name": "stderr",
     "output_type": "stream",
     "text": [
      "INFO:tensorflow:Assets written to: /var/folders/vm/p9d_yt5d4bv7vryrrsq_1psc0000gn/T/tmpaxva01gq/assets\n"
     ]
    },
    {
     "name": "stdout",
     "output_type": "stream",
     "text": [
      "Saved artifact at '/var/folders/vm/p9d_yt5d4bv7vryrrsq_1psc0000gn/T/tmpaxva01gq'. The following endpoints are available:\n",
      "\n",
      "* Endpoint 'serve'\n",
      "  args_0 (POSITIONAL_ONLY): TensorSpec(shape=(None, 42), dtype=tf.float32, name='input_layer')\n",
      "Output Type:\n",
      "  TensorSpec(shape=(None, 42), dtype=tf.float32, name=None)\n",
      "Captures:\n",
      "  5809740240: TensorSpec(shape=(), dtype=tf.resource, name=None)\n",
      "  5809744464: TensorSpec(shape=(), dtype=tf.resource, name=None)\n",
      "  5809741968: TensorSpec(shape=(), dtype=tf.resource, name=None)\n",
      "  5809745808: TensorSpec(shape=(), dtype=tf.resource, name=None)\n",
      "  5809746000: TensorSpec(shape=(), dtype=tf.resource, name=None)\n",
      "  5809745040: TensorSpec(shape=(), dtype=tf.resource, name=None)\n",
      "  5809745424: TensorSpec(shape=(), dtype=tf.resource, name=None)\n",
      "  5809742736: TensorSpec(shape=(), dtype=tf.resource, name=None)\n",
      "  5809740816: TensorSpec(shape=(), dtype=tf.resource, name=None)\n",
      "  5809742160: TensorSpec(shape=(), dtype=tf.resource, name=None)\n",
      "  5809743312: TensorSpec(shape=(), dtype=tf.resource, name=None)\n",
      "  5809745232: TensorSpec(shape=(), dtype=tf.resource, name=None)\n",
      "  5809744656: TensorSpec(shape=(), dtype=tf.resource, name=None)\n",
      "  5809745616: TensorSpec(shape=(), dtype=tf.resource, name=None)\n",
      "  5809744848: TensorSpec(shape=(), dtype=tf.float32, name=None)\n",
      "  5809741584: TensorSpec(shape=(), dtype=tf.resource, name=None)\n",
      "  5809746768: TensorSpec(shape=(), dtype=tf.resource, name=None)\n",
      "  5809742352: TensorSpec(shape=(), dtype=tf.resource, name=None)\n",
      "  5809746192: TensorSpec(shape=(), dtype=tf.resource, name=None)\n",
      "  5809746384: TensorSpec(shape=(), dtype=tf.resource, name=None)\n",
      "  5809747728: TensorSpec(shape=(), dtype=tf.resource, name=None)\n",
      "  5809746960: TensorSpec(shape=(), dtype=tf.resource, name=None)\n",
      "  5811711312: TensorSpec(shape=(), dtype=tf.resource, name=None)\n",
      "  5811708624: TensorSpec(shape=(), dtype=tf.resource, name=None)\n",
      "  5811711504: TensorSpec(shape=(), dtype=tf.resource, name=None)\n",
      "  5811711120: TensorSpec(shape=(), dtype=tf.resource, name=None)\n",
      "  5811711888: TensorSpec(shape=(), dtype=tf.resource, name=None)\n",
      "  5811709968: TensorSpec(shape=(), dtype=tf.resource, name=None)\n",
      "  5811713616: TensorSpec(shape=(), dtype=tf.resource, name=None)\n",
      "Autoencoder converted to TFLite!\n"
     ]
    },
    {
     "name": "stderr",
     "output_type": "stream",
     "text": [
      "WARNING: All log messages before absl::InitializeLog() is called are written to STDERR\n",
      "W0000 00:00:1759163539.966601 3543705 tf_tfl_flatbuffer_helpers.cc:365] Ignored output_format.\n",
      "W0000 00:00:1759163539.966619 3543705 tf_tfl_flatbuffer_helpers.cc:368] Ignored drop_control_dependency.\n",
      "I0000 00:00:1759163539.973719 3543705 mlir_graph_optimization_pass.cc:425] MLIR V1 optimization pass is not enabled\n"
     ]
    }
   ],
   "source": [
    "# Save best model\n",
    "save_autoencoder_model(best_model, best_threshold)\n",
    "convert_to_tflite(best_model)"
   ]
  },
  {
   "cell_type": "markdown",
   "id": "968fec2f",
   "metadata": {},
   "source": [
    "## Plotting"
   ]
  },
  {
   "cell_type": "code",
   "execution_count": 9,
   "id": "ca0eae08",
   "metadata": {},
   "outputs": [
    {
     "data": {
      "image/png": "[encoded data removed]",
      "text/plain": [
       "<Figure size 1000x600 with 1 Axes>"
      ]
     },
     "metadata": {},
     "output_type": "display_data"
    },
    {
     "data": {
      "image/png": "[encoded data removed]",
      "text/plain": [
       "<Figure size 800x600 with 1 Axes>"
      ]
     },
     "metadata": {},
     "output_type": "display_data"
    }
   ],
   "source": [
    "# Call it like this\n",
    "plot_kfold_results(fold_histories, best_model, best_threshold)"
   ]
  },
  {
   "cell_type": "code",
   "execution_count": null,
   "id": "47b16453",
   "metadata": {},
   "outputs": [],
   "source": []
  }
 ],
 "metadata": {
  "kernelspec": {
   "display_name": ".venv",
   "language": "python",
   "name": "python3"
  },
  "language_info": {
   "codemirror_mode": {
    "name": "ipython",
    "version": 3
   },
   "file_extension": ".py",
   "mimetype": "text/x-python",
   "name": "python",
   "nbconvert_exporter": "python",
   "pygments_lexer": "ipython3",
   "version": "3.12.9"
  }
 },
 "nbformat": 4,
 "nbformat_minor": 5
}
